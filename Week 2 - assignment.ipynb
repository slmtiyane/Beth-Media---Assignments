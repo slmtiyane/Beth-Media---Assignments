{
 "cells": [
  {
   "cell_type": "markdown",
   "id": "fe20706a",
   "metadata": {},
   "source": [
    "# Beginner Questions"
   ]
  },
  {
   "cell_type": "markdown",
   "id": "f68a63ae-329f-4036-8489-5079ba80992e",
   "metadata": {},
   "source": [
    "## Positive or Negative Number Check"
   ]
  },
  {
   "cell_type": "code",
   "execution_count": 1,
   "id": "4187c3f3",
   "metadata": {},
   "outputs": [
    {
     "name": "stdout",
     "output_type": "stream",
     "text": [
      "Enter a number: 5\n",
      "The number is positive\n"
     ]
    }
   ],
   "source": [
    "number = int(input(\"Enter a number: \"))\n",
    "if number > 0:\n",
    "    print(\"The number is positive\")\n",
    "elif number < 0:\n",
    "    print(\"The number is negative\")\n",
    "else:\n",
    "    print(\"The number is zero\")\n"
   ]
  },
  {
   "cell_type": "markdown",
   "id": "7922b078-d4e4-48f4-81ae-cad39422eade",
   "metadata": {},
   "source": [
    "## Age Categorization"
   ]
  },
  {
   "cell_type": "code",
   "execution_count": 3,
   "id": "fe397ca9",
   "metadata": {},
   "outputs": [
    {
     "name": "stdout",
     "output_type": "stream",
     "text": [
      "Enter age: 25\n",
      "You are an adult\n"
     ]
    }
   ],
   "source": [
    "age = int(input(\"Enter age: \"))\n",
    "if age >= 0 and age <= 12:\n",
    "    print(\"You are a child\")\n",
    "elif age > 12 and age <= 19:\n",
    "    print(\"You are a teenager\") \n",
    "elif age > 19 and age <= 59:\n",
    "    print(\"You are an adult\")     \n",
    "elif age > 59:\n",
    "    print(\"You are a senior\")\n",
    "else:\n",
    "    print(\"Age entered is not valid\")"
   ]
  },
  {
   "cell_type": "markdown",
   "id": "01f44449-c423-4f3b-8361-0384e3d4ec58",
   "metadata": {},
   "source": [
    "## Grade Checker"
   ]
  },
  {
   "cell_type": "code",
   "execution_count": 3,
   "id": "2a3ea105",
   "metadata": {},
   "outputs": [
    {
     "name": "stdin",
     "output_type": "stream",
     "text": [
      "Enter your grade:  90\n"
     ]
    },
    {
     "name": "stdout",
     "output_type": "stream",
     "text": [
      "Your grade is A\n"
     ]
    }
   ],
   "source": [
    "grade = int(input(\"Enter your grade: \"))\n",
    "if grade >= 90:\n",
    "    print(\"Your grade is A\")\n",
    "elif grade >= 80:\n",
    "    print(\"Your grade is B\") \n",
    "elif grade >= 70:\n",
    "    print(\"Your grade is C\")     \n",
    "elif grade >= 60:\n",
    "    print(\"Your grade is D\")\n",
    "else:\n",
    "    print(\"Your grade is F\")\n",
    "    "
   ]
  },
  {
   "cell_type": "markdown",
   "id": "9c73eaa8-f01f-4ee6-947b-c6e768dd1227",
   "metadata": {},
   "source": [
    "## Print Numbers (For Loop)"
   ]
  },
  {
   "cell_type": "code",
   "execution_count": 8,
   "id": "89e117fe",
   "metadata": {},
   "outputs": [
    {
     "name": "stdout",
     "output_type": "stream",
     "text": [
      "1 2 3 4 5 6 7 8 9 10 "
     ]
    }
   ],
   "source": [
    "for number in range(1, 11):\n",
    "    print(number, end = \" \")"
   ]
  },
  {
   "cell_type": "markdown",
   "id": "30e5ccc5-4fe9-414e-bea0-8d4439749eb8",
   "metadata": {},
   "source": [
    "##  Countdown time (while loop)"
   ]
  },
  {
   "cell_type": "code",
   "execution_count": 43,
   "id": "20fef640",
   "metadata": {},
   "outputs": [
    {
     "name": "stdin",
     "output_type": "stream",
     "text": [
      "Enter a number 5\n"
     ]
    },
    {
     "name": "stdout",
     "output_type": "stream",
     "text": [
      "5 4 3 2 1 0 "
     ]
    }
   ],
   "source": [
    "number = int(input(\"Enter a number\"))\n",
    "\n",
    "while number >= 0:\n",
    "    print(number, end = \" \")\n",
    "    number -= 1"
   ]
  },
  {
   "cell_type": "markdown",
   "id": "78325199",
   "metadata": {},
   "source": [
    "# Intermediate Questions"
   ]
  },
  {
   "cell_type": "markdown",
   "id": "7da5a4bc-8238-4e3f-980c-be5122aac262",
   "metadata": {},
   "source": [
    "## Sum of Even Numbers"
   ]
  },
  {
   "cell_type": "code",
   "execution_count": 20,
   "id": "050bb92f",
   "metadata": {},
   "outputs": [
    {
     "name": "stdout",
     "output_type": "stream",
     "text": [
      "650\n"
     ]
    }
   ],
   "source": [
    "total = 0\n",
    "for evenNumber in range(0, 51,2):\n",
    "#     print(evenNumber, end = \" \")\n",
    "    total = total + evenNumber\n",
    "print(total)"
   ]
  },
  {
   "cell_type": "markdown",
   "id": "72771303-0341-481a-838f-618717da8f59",
   "metadata": {},
   "source": [
    "##  Simple Guessing Game"
   ]
  },
  {
   "cell_type": "code",
   "execution_count": 17,
   "id": "f27ab24f",
   "metadata": {},
   "outputs": [
    {
     "name": "stdout",
     "output_type": "stream",
     "text": [
      "Guess number between 1 and 20: 10\n",
      "\n",
      "Your guess is too high!\n",
      "Guess number between 1 and 20: 5\n",
      "\n",
      "Your guess is too high!\n",
      "Guess number between 1 and 20: 3\n",
      "\n",
      "Your guess is too low!\n",
      "Guess number between 1 and 20: 4\n",
      "\n",
      "Congratulations! You guessed it!\n"
     ]
    }
   ],
   "source": [
    "import random\n",
    "\n",
    "number = random.randint(1, 20)\n",
    "\n",
    "for i in range(0, 5):\n",
    "    guess = int(input(\"Guess number between 1 and 20: \"))       \n",
    "    if guess == number:\n",
    "        print(\"Congratulations! You guessed it!\")       \n",
    "        break\n",
    "        \n",
    "    elif guess < number:\n",
    "        print(\"Your guess is too low!\")\n",
    "    else:\n",
    "        print(\"Your guess is too high!\") \n",
    "        \n",
    "if i == 4 and guess != number:\n",
    "    print(\"Game over!\")\n",
    "        "
   ]
  },
  {
   "cell_type": "markdown",
   "id": "2a2465da-cebf-4276-98fe-1b27398d5b11",
   "metadata": {},
   "source": [
    "## Password Checker (If Statement + While Loop)"
   ]
  },
  {
   "cell_type": "code",
   "execution_count": 26,
   "id": "4d0450f8",
   "metadata": {},
   "outputs": [
    {
     "name": "stdout",
     "output_type": "stream",
     "text": [
      "Enter password: Python123\n",
      "\n",
      "Access granted!\n"
     ]
    }
   ],
   "source": [
    "password = \"Python123\"\n",
    "\n",
    "i = 5\n",
    "while i > 0:\n",
    "    inputpwd = input(\"Enter password: \")\n",
    "    i -= 1\n",
    "    if inputpwd == password:\n",
    "        print(\"\\nAccess granted!\")\n",
    "        break\n",
    "    elif inputpwd != password:\n",
    "        print(f\"\\nTry again!, you have {i} attempts left\")   \n",
    "    if i == 0:\n",
    "        print(\"\\nAccess denied!\")\n",
    "        break"
   ]
  },
  {
   "cell_type": "markdown",
   "id": "01d123ab-c073-47e1-a29f-c1909cf785f5",
   "metadata": {},
   "source": [
    "##  Nested Loops Practice"
   ]
  },
  {
   "cell_type": "code",
   "execution_count": 59,
   "id": "11e95bc5",
   "metadata": {},
   "outputs": [
    {
     "name": "stdout",
     "output_type": "stream",
     "text": [
      "*\n",
      "**\n",
      "***\n",
      "****\n",
      "*****\n"
     ]
    }
   ],
   "source": [
    "for i in range(1,6):\n",
    "    for j in range(0, i):\n",
    "        print(\"*\", end = \"\")\n",
    "    print(\"\")"
   ]
  },
  {
   "cell_type": "markdown",
   "id": "4db6eea8-b06f-49b3-b9a2-5114458169d2",
   "metadata": {},
   "source": [
    "## NumberTriangle"
   ]
  },
  {
   "cell_type": "code",
   "execution_count": 82,
   "id": "f7a28833",
   "metadata": {},
   "outputs": [
    {
     "name": "stdout",
     "output_type": "stream",
     "text": [
      "1 \n",
      "1 2 \n",
      "1 2 3 \n",
      "1 2 3 4 \n",
      "1 2 3 4 5 \n"
     ]
    }
   ],
   "source": [
    "for i in range(1,6):\n",
    "    for j in range(0, i):\n",
    "        print(j+1, end = \" \")\n",
    "    print(\"\")    "
   ]
  },
  {
   "cell_type": "markdown",
   "id": "570e5b6b-18c2-4a8d-8171-34e891cba239",
   "metadata": {},
   "source": [
    "# Advanced Questions"
   ]
  },
  {
   "cell_type": "markdown",
   "id": "f6541dee-c466-4ba1-bcda-015a02da5857",
   "metadata": {},
   "source": [
    "## Advanced Grade Checker"
   ]
  },
  {
   "cell_type": "code",
   "execution_count": 7,
   "id": "b059c68f",
   "metadata": {},
   "outputs": [
    {
     "name": "stdin",
     "output_type": "stream",
     "text": [
      "Enter your score:  -20\n"
     ]
    },
    {
     "name": "stdout",
     "output_type": "stream",
     "text": [
      "Invalid score\n"
     ]
    }
   ],
   "source": [
    "grade = int(input(\"Enter your score: \"))\n",
    "if grade > 100 or grade < 0:\n",
    "    print(\"Invalid score\")\n",
    "elif grade >= 90:\n",
    "    print(\"Your grade is A\")\n",
    "elif grade >= 80:\n",
    "    print(\"Your grade is B\") \n",
    "elif grade >= 70:\n",
    "    print(\"Your grade is C\")     \n",
    "elif grade >= 60:\n",
    "    print(\"Your grade is D\")\n",
    "else:\n",
    "    print(\"Your grade is F\")\n",
    "    "
   ]
  },
  {
   "cell_type": "markdown",
   "id": "caf9663d-7d63-492a-b138-369a23d755da",
   "metadata": {},
   "source": [
    "##  Guessing Game with Enhanced Feedback"
   ]
  },
  {
   "cell_type": "code",
   "execution_count": 8,
   "id": "6c3afc49",
   "metadata": {},
   "outputs": [
    {
     "name": "stdin",
     "output_type": "stream",
     "text": [
      "Guess number between 1 and 20:  50\n"
     ]
    },
    {
     "name": "stdout",
     "output_type": "stream",
     "text": [
      "Your guess is too high!\n"
     ]
    },
    {
     "name": "stdin",
     "output_type": "stream",
     "text": [
      "Guess number between 1 and 20:  10\n"
     ]
    },
    {
     "name": "stdout",
     "output_type": "stream",
     "text": [
      "Your guess is too high!\n"
     ]
    },
    {
     "name": "stdin",
     "output_type": "stream",
     "text": [
      "Guess number between 1 and 20:  5\n"
     ]
    },
    {
     "name": "stdout",
     "output_type": "stream",
     "text": [
      "Your guess is too low!\n"
     ]
    },
    {
     "name": "stdin",
     "output_type": "stream",
     "text": [
      "Guess number between 1 and 20:  7\n"
     ]
    },
    {
     "name": "stdout",
     "output_type": "stream",
     "text": [
      "Your guess is too low!\n"
     ]
    },
    {
     "name": "stdin",
     "output_type": "stream",
     "text": [
      "Guess number between 1 and 20:  8\n"
     ]
    },
    {
     "name": "stdout",
     "output_type": "stream",
     "text": [
      "Your guess is too low!\n",
      "\n",
      "Your score is: 0\n",
      "Game over!\n"
     ]
    }
   ],
   "source": [
    "import random\n",
    "\n",
    "number = random.randint(1, 20)\n",
    "\n",
    "for i in range(0, 5):\n",
    "    guess = int(input(\"Guess number between 1 and 20: \"))       \n",
    "    if guess == number:\n",
    "        print(\"Congratulations! You guessed it!\")\n",
    "        print(f\"\\nYour score is: {100 - 10*(1.5*i)}\")        \n",
    "        break\n",
    "        \n",
    "    elif guess < number:\n",
    "        print(\"Your guess is too low!\")\n",
    "    else:\n",
    "        print(\"Your guess is too high!\") \n",
    "        \n",
    "if i == 4 and guess != number:\n",
    "    print(f\"\\nYour score is: 0\")   \n",
    "    print(\"Game over!\")\n",
    "        "
   ]
  },
  {
   "cell_type": "markdown",
   "id": "b8cd8ecd-dc3a-4cc4-8b4c-12c732f4efb5",
   "metadata": {},
   "source": [
    "##  Sum of Digits"
   ]
  },
  {
   "cell_type": "code",
   "execution_count": 98,
   "id": "3295934e",
   "metadata": {},
   "outputs": [
    {
     "name": "stdout",
     "output_type": "stream",
     "text": [
      "Enter a number:1234\n",
      "The sum of digits is 10\n"
     ]
    }
   ],
   "source": [
    "number = int(input(\"Enter a number:\"))\n",
    "sumDigits = 0\n",
    "for i in str(number):\n",
    "    sumDigits += int(i)\n",
    "print(f\"The sum of digits is {sumDigits}\")"
   ]
  },
  {
   "cell_type": "markdown",
   "id": "1ff04e0b-5462-4a05-9412-3df16fe8125a",
   "metadata": {},
   "source": [
    "## Prime Numbers in Range"
   ]
  },
  {
   "cell_type": "code",
   "execution_count": 39,
   "id": "e59c166b-52ff-4c02-85eb-a6e131a13b7b",
   "metadata": {},
   "outputs": [
    {
     "name": "stdout",
     "output_type": "stream",
     "text": [
      "2 3 5 7 11 13 17 19 23 29 31 37 41 43 47 53 59 61 67 71 73 79 83 89 97 "
     ]
    }
   ],
   "source": [
    "isPrime = False\n",
    "for prime in range(2,100 + 1):\n",
    "    for divisor in range(2, prime):\n",
    "        if prime%divisor == 0:\n",
    "            isPrime = True\n",
    "            break\n",
    "        else:\n",
    "            isPrime = False\n",
    "    if isPrime == False:\n",
    "        print(prime, end = \" \")"
   ]
  },
  {
   "cell_type": "markdown",
   "id": "a368c1ce-838f-4b24-a97e-b7cd8c608207",
   "metadata": {},
   "source": [
    "## Advanced Countdown Timer"
   ]
  },
  {
   "cell_type": "code",
   "execution_count": 45,
   "id": "7bbed818-7c87-4b29-a711-d708b52e84e6",
   "metadata": {},
   "outputs": [
    {
     "name": "stdin",
     "output_type": "stream",
     "text": [
      "Enter a number 10\n"
     ]
    },
    {
     "name": "stdout",
     "output_type": "stream",
     "text": [
      "10 9 8 7 6 5 4 3 2 1 0 \n",
      "Time's up\n"
     ]
    }
   ],
   "source": [
    "import time\n",
    "number = int(input(\"Enter a number\"))\n",
    "\n",
    "while number >= 0:\n",
    "    print(number, end = \" \") \n",
    "    number -= 1\n",
    "    time.sleep(1)\n",
    "print(\"\\nTime's up\")"
   ]
  },
  {
   "cell_type": "markdown",
   "id": "9d7d85b2-7312-4e0b-a6a5-5bb8efb46b09",
   "metadata": {},
   "source": [
    "<h1>************************ The End ************************"
   ]
  },
  {
   "cell_type": "code",
   "execution_count": null,
   "id": "2b4db5f0-67f5-494b-ae7b-2dd8f57eaf51",
   "metadata": {},
   "outputs": [],
   "source": []
  }
 ],
 "metadata": {
  "kernelspec": {
   "display_name": "Python 3 (ipykernel)",
   "language": "python",
   "name": "python3"
  },
  "language_info": {
   "codemirror_mode": {
    "name": "ipython",
    "version": 3
   },
   "file_extension": ".py",
   "mimetype": "text/x-python",
   "name": "python",
   "nbconvert_exporter": "python",
   "pygments_lexer": "ipython3",
   "version": "3.12.7"
  },
  "toc": {
   "base_numbering": 1,
   "nav_menu": {},
   "number_sections": true,
   "sideBar": true,
   "skip_h1_title": false,
   "title_cell": "Table of Contents",
   "title_sidebar": "Contents",
   "toc_cell": false,
   "toc_position": {},
   "toc_section_display": true,
   "toc_window_display": false
  }
 },
 "nbformat": 4,
 "nbformat_minor": 5
}
