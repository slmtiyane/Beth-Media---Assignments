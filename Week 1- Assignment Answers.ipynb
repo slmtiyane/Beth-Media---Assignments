{
 "cells": [
  {
   "cell_type": "markdown",
   "id": "c2950e94",
   "metadata": {},
   "source": [
    "Week 1 - Assingment Answers"
   ]
  },
  {
   "cell_type": "code",
   "execution_count": 107,
   "id": "2b61834c",
   "metadata": {},
   "outputs": [
    {
     "name": "stdout",
     "output_type": "stream",
     "text": [
      "12\n"
     ]
    }
   ],
   "source": [
    "count = 0\n",
    "for number in range(1, 1000 + 1):\n",
    "    if number%7 == 0 and number%11 == 0:\n",
    "        count = count + 1\n",
    "print(count)  "
   ]
  },
  {
   "cell_type": "code",
   "execution_count": 100,
   "id": "010a2dd5",
   "metadata": {},
   "outputs": [
    {
     "name": "stdout",
     "output_type": "stream",
     "text": [
      "Enter a number:548834\n",
      "548834 is an Armstrong number\n"
     ]
    }
   ],
   "source": [
    "number = int(input(\"Enter a number:\"))\n",
    "numToStr = str(number)\n",
    "digits = 0\n",
    "for i in numToStr:\n",
    "    digits = digits + int(i)**len(numToStr)\n",
    "    \n",
    "if  digits == number:\n",
    "    print(f\"{number} is an Armstrong number\")\n",
    "else:\n",
    "    print(f\"{number} is not an Armstrong number\")\n"
   ]
  },
  {
   "cell_type": "code",
   "execution_count": 106,
   "id": "ee805ddd",
   "metadata": {},
   "outputs": [
    {
     "name": "stdout",
     "output_type": "stream",
     "text": [
      "{1: 10, 2: 50, 3: 40}\n"
     ]
    }
   ],
   "source": [
    "dict1 = {1: 10, 2: 20}\n",
    "dict2 = {2: 30, 3: 40}\n",
    "newDict = {}\n",
    "\n",
    "for key, value in dict1.items():\n",
    "    newDict[key] = value\n",
    "\n",
    "for key, value in dict2.items():\n",
    "    if key in newDict:\n",
    "        newDict[key] += value  # Sum the values when keys are the same\n",
    "    else:\n",
    "        newDict[key] = value  # Add the new key-value pair\n",
    "\n",
    "        \n",
    "print(newDict)\n"
   ]
  },
  {
   "cell_type": "code",
   "execution_count": 35,
   "id": "9c7598bc",
   "metadata": {},
   "outputs": [
    {
     "name": "stdout",
     "output_type": "stream",
     "text": [
      "{1: 1, 2: 4, 3: 9, 4: 16, 5: 25}\n"
     ]
    }
   ],
   "source": [
    "myDict = {}\n",
    "\n",
    "for i in range(1, 5+1):\n",
    "    myDict[i] = i**2\n",
    "\n",
    "print(myDict)"
   ]
  },
  {
   "cell_type": "code",
   "execution_count": 37,
   "id": "d8d065e7",
   "metadata": {},
   "outputs": [
    {
     "name": "stdout",
     "output_type": "stream",
     "text": [
      "The sets are not disjoint\n"
     ]
    }
   ],
   "source": [
    "set1 = {\"a\", \"b\", \"c\"}\n",
    "set2 = {\"c\", \"d\", \"e\"}\n",
    "\n",
    "if set1.isdisjoint(set2) == True:\n",
    "    print(\"The sets are disjoint\")\n",
    "else:\n",
    "    print(\"The sets are not disjoint\")\n"
   ]
  },
  {
   "cell_type": "code",
   "execution_count": 46,
   "id": "4a115ebc",
   "metadata": {},
   "outputs": [
    {
     "name": "stdout",
     "output_type": "stream",
     "text": [
      "{'o', 'u', 'a', 'i'}\n"
     ]
    }
   ],
   "source": [
    "sentenceStr = \"Python programming is fun\"\n",
    "newList = []\n",
    "for vowel in sentenceStr:\n",
    "    if vowel in \"aeiouAEIOU\":\n",
    "        newList.append(vowel)\n",
    "newListSet = set(newList)\n",
    "\n",
    "print(newListSet)"
   ]
  },
  {
   "cell_type": "code",
   "execution_count": 60,
   "id": "137ace39",
   "metadata": {},
   "outputs": [
    {
     "name": "stdout",
     "output_type": "stream",
     "text": [
      "True the list is sorted\n"
     ]
    }
   ],
   "source": [
    "myList = [\"a\", \"c\", \"d\"]\n",
    "\n",
    "if myList == sorted(myList):\n",
    "    print(True, \"the list is sorted\")\n",
    "else:\n",
    "    print(False, \", the list is not sorted\")    \n"
   ]
  },
  {
   "cell_type": "code",
   "execution_count": 64,
   "id": "73c11a38",
   "metadata": {},
   "outputs": [
    {
     "name": "stdout",
     "output_type": "stream",
     "text": [
      "Enter a string:abc\n",
      "Enter a string:aabbcc\n",
      "abc is a subsequence of aabbcc\n"
     ]
    }
   ],
   "source": [
    "string1 = input(\"Enter a string:\")\n",
    "string2 = input(\"Enter a string:\")\n",
    "\n",
    "newList1 = []\n",
    "newList2 = []\n",
    "for vowel in string1:\n",
    "    newList1.append(vowel)\n",
    "for vowel in string2:\n",
    "    newList2.append(vowel)\n",
    "       \n",
    "if set(newList1).issubset(set(newList2)):\n",
    "    print(f\"{string1} is a subsequence of {string2}\")"
   ]
  },
  {
   "cell_type": "code",
   "execution_count": 73,
   "id": "eeb7b983",
   "metadata": {},
   "outputs": [
    {
     "name": "stdout",
     "output_type": "stream",
     "text": [
      "['a', 'c']\n"
     ]
    }
   ],
   "source": [
    "myList = [\"a\", \"c\", \"c\"]\n",
    "newList = []\n",
    "for i in myList:\n",
    "    if i not in newList:\n",
    "        newList.append(i)\n",
    "print(newList)"
   ]
  },
  {
   "cell_type": "markdown",
   "id": "af35ca05",
   "metadata": {},
   "source": [
    "Pseudocodes of answers:\n",
    "\n",
    "Question 1:\n",
    "\n",
    "1. Set count = 0.\n",
    "2. For each number in the range 1 to 1000 (inclusive):\n",
    "    If number is divisible by 7 (i.e., number % 7 == 0) OR divisible by 11 (i.e., number % 11 == 0):\n",
    "        Increment count by 1.\n",
    "3. Output the value of count.\n",
    "\n",
    "\n",
    "Question 2:\n",
    "\n",
    "1. Read the user input and store it in number.\n",
    "2. Convert number to a string and assign it to numToStr.\n",
    "3. Set digits = 0.\n",
    "4. For each digit i in numToStr:\n",
    "    Convert i to an integer.\n",
    "    Calculate the cube of i and add it to digits.\n",
    "5. If digits equals number:\n",
    "    Print \"{number} is an Armstrong number\".\n",
    "6. Else:\n",
    "    Print \"{number} is not an Armstrong number\".\n",
    "\n",
    "Question 3:\n",
    "\n",
    "\n",
    "Question 4:\n",
    "\n",
    "1. Initialize an empty dictionary called myDict.\n",
    "2. For each i from 1 to 5 (inclusive):\n",
    "    Calculate i_squared = i * i.\n",
    "    Add a key-value pair to myDict where the key is i and the value is i_squared.\n",
    "3. Output the dictionary myDict.\n",
    "\n",
    "\n",
    "Question 5:\n",
    "\n",
    "1. Define set1 = {\"a\", \"b\", \"c\"}.\n",
    "2. Define set2 = {\"c\", \"d\", \"e\"}.\n",
    "3. Check if set1 has no elements in common with set2:\n",
    "4. If they have no common elements (i.e., set1.isdisjoint(set2) is True):\n",
    "        Print \"The sets are disjoint\".\n",
    "5. If they have any common elements (i.e., set1.isdisjoint(set2) is False):\n",
    "        Print \"The sets are not disjoint\".\n",
    "\n",
    "Question 6:\n",
    "\n",
    "1. Set sentenceStr = \"Python programming is fun\".\n",
    "2. Initialize an empty list newList.\n",
    "3. For each character vowel in sentenceStr:\n",
    "    If vowel is a vowel (i.e., it belongs to the set of characters \"aeiouAEIOU\"):\n",
    "        Append vowel to newList.\n",
    "4. Convert newList to a set newListSet to remove any duplicate vowels.\n",
    "5. Output the set newListSet.\n",
    "\n",
    "\n",
    "Question 7:\n",
    "\n",
    "1. Set myList = [\"a\", \"c\", \"d\"].\n",
    "2. Sort myList using sorted(myList).\n",
    "3. If the sorted list is equal to myList:\n",
    "        Print \"True, the list is sorted\".\n",
    "4. Else:\n",
    "        Print \"False, the list is not sorted\".\n",
    "        \n",
    "\n",
    "Question 8:\n",
    "\n",
    "1. Read string1 from the user input.\n",
    "2. Read string2 from the user input.\n",
    "3. Initialize an empty list newList1 and append characters of string1 to it.\n",
    "4. Initialize an empty list newList2 and append characters of string2 to it.\n",
    "5. Convert newList1 and newList2 into sets.\n",
    "6. Check if the set of newList1 is a subset of the set of newList2 using issubset().\n",
    "7. If the condition is true, print that string1 is a subsequence of string2.\n",
    "\n",
    "\n",
    "Question 9:\n",
    "1. Set myList = [\"a\", \"c\", \"c\"].\n",
    "2. Initialize newList = [].\n",
    "3. For each i in myList:\n",
    "        If i is not in newList:\n",
    "            Append i to newList.\n",
    "4. Output the list newList."
   ]
  }
 ],
 "metadata": {
  "kernelspec": {
   "display_name": "Python 3 (ipykernel)",
   "language": "python",
   "name": "python3"
  },
  "language_info": {
   "codemirror_mode": {
    "name": "ipython",
    "version": 3
   },
   "file_extension": ".py",
   "mimetype": "text/x-python",
   "name": "python",
   "nbconvert_exporter": "python",
   "pygments_lexer": "ipython3",
   "version": "3.9.12"
  },
  "toc": {
   "base_numbering": 1,
   "nav_menu": {},
   "number_sections": true,
   "sideBar": true,
   "skip_h1_title": false,
   "title_cell": "Table of Contents",
   "title_sidebar": "Contents",
   "toc_cell": false,
   "toc_position": {},
   "toc_section_display": true,
   "toc_window_display": false
  }
 },
 "nbformat": 4,
 "nbformat_minor": 5
}
