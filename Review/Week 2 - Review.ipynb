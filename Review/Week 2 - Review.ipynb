{
 "cells": [
  {
   "cell_type": "markdown",
   "id": "fe20706a",
   "metadata": {},
   "source": [
    "# Beginner Questions"
   ]
  },
  {
   "cell_type": "markdown",
   "id": "f68a63ae-329f-4036-8489-5079ba80992e",
   "metadata": {},
   "source": [
    "## Positive or Negative Number Check"
   ]
  },
  {
   "cell_type": "code",
   "execution_count": 1,
   "id": "4187c3f3",
   "metadata": {},
   "outputs": [
    {
     "name": "stdin",
     "output_type": "stream",
     "text": [
      "Enter a number:  4\n"
     ]
    },
    {
     "name": "stdout",
     "output_type": "stream",
     "text": [
      "The number is positive\n"
     ]
    }
   ],
   "source": [
    "number = int(input(\"Enter a number: \"))\n",
    "if number > 0:\n",
    "    print(\"The number is positive\")\n",
    "elif number < 0:\n",
    "    print(\"The number is negative\")\n",
    "else:\n",
    "    print(\"The number is zero\")\n"
   ]
  },
  {
   "cell_type": "markdown",
   "id": "686424bc-3878-4d30-98ce-3d291bb232e8",
   "metadata": {},
   "source": [
    "## Review \n",
    "\n",
    "The solution correctly classifies numbers as positive, negative, or zero.\n",
    "The logic is straightforward and easy to understand.\n",
    "\n",
    "### Improvement Suggestions:\n",
    "\n",
    "Error Handling for Non-Numeric Input\n",
    "If the user enters a non-numeric value, the program will crash. Using try-except prevents this\n"
   ]
  },
  {
   "cell_type": "markdown",
   "id": "7922b078-d4e4-48f4-81ae-cad39422eade",
   "metadata": {},
   "source": [
    "## Age Categorization"
   ]
  },
  {
   "cell_type": "code",
   "execution_count": 3,
   "id": "fe397ca9",
   "metadata": {},
   "outputs": [
    {
     "name": "stdout",
     "output_type": "stream",
     "text": [
      "Enter age: 25\n",
      "You are an adult\n"
     ]
    }
   ],
   "source": [
    "age = int(input(\"Enter age: \"))\n",
    "if age >= 0 and age <= 12:\n",
    "    print(\"You are a child\")\n",
    "elif age > 12 and age <= 19:\n",
    "    print(\"You are a teenager\") \n",
    "elif age > 19 and age <= 59:\n",
    "    print(\"You are an adult\")     \n",
    "elif age > 59:\n",
    "    print(\"You are a senior\")\n",
    "else:\n",
    "    print(\"Age entered is not valid\")"
   ]
  },
  {
   "cell_type": "markdown",
   "id": "a9cb1256-b307-4193-a1e2-761b40417407",
   "metadata": {},
   "source": [
    "## Review \n",
    "\n",
    "The program correctly classifies ages into different categories.\n",
    "The structure is clear and follows a logical order.\n",
    "\n",
    " Improvement Suggestions:\n",
    " If the user enters a non-numeric value, the program will crash. Adding try-except improves robustness   \n",
    " The conditions can be written in a more readable way using chained comparisons\n"
   ]
  },
  {
   "cell_type": "code",
   "execution_count": 3,
   "id": "75aad949-2078-436c-89ce-e37ebccc5320",
   "metadata": {},
   "outputs": [
    {
     "name": "stdin",
     "output_type": "stream",
     "text": [
      "Enter age:  6\n",
      "Enter age:  j\n"
     ]
    },
    {
     "name": "stdout",
     "output_type": "stream",
     "text": [
      "Invalid input! Please enter a valid age.\n"
     ]
    }
   ],
   "source": [
    "### Improved code\n",
    "try:\n",
    "    age = int(input(\"Enter age: \"))\n",
    "    if 0 <= age <= 12:\n",
    "        print(\"You are a child\")\n",
    "    elif 13 <= age <= 19:\n",
    "        print(\"You are a teenager\")\n",
    "    elif 20 <= age <= 59:\n",
    "        print(\"You are an adult\")\n",
    "    elif age >= 60:\n",
    "        print(\"You are a senior\")\n",
    "    else:\n",
    "        print(\"Age entered is not valid\")\n",
    "except ValueError:\n",
    "    print(\"Invalid input! Please enter a valid age.\")"
   ]
  },
  {
   "cell_type": "code",
   "execution_count": null,
   "id": "8929ee5e-6c3b-45a1-9848-543d6ba2c53b",
   "metadata": {},
   "outputs": [],
   "source": []
  },
  {
   "cell_type": "markdown",
   "id": "01f44449-c423-4f3b-8361-0384e3d4ec58",
   "metadata": {},
   "source": [
    "## Grade Checker"
   ]
  },
  {
   "cell_type": "code",
   "execution_count": 3,
   "id": "2a3ea105",
   "metadata": {},
   "outputs": [
    {
     "name": "stdin",
     "output_type": "stream",
     "text": [
      "Enter your grade:  90\n"
     ]
    },
    {
     "name": "stdout",
     "output_type": "stream",
     "text": [
      "Your grade is A\n"
     ]
    }
   ],
   "source": [
    "grade = int(input(\"Enter your grade: \"))\n",
    "if grade >= 90:\n",
    "    print(\"Your grade is A\")\n",
    "elif grade >= 80:\n",
    "    print(\"Your grade is B\") \n",
    "elif grade >= 70:\n",
    "    print(\"Your grade is C\")     \n",
    "elif grade >= 60:\n",
    "    print(\"Your grade is D\")\n",
    "else:\n",
    "    print(\"Your grade is F\")\n",
    "    "
   ]
  },
  {
   "cell_type": "markdown",
   "id": "3db4502c-ead6-41ac-a5f3-daec5c028f44",
   "metadata": {},
   "source": [
    "## Review\n",
    "\n",
    "The program correctly assigns letter grades based on numerical scores.\n",
    "\n",
    "The conditions are structured logically, making it easy to follow.\n",
    "\n",
    "Improvement Suggestions:\n",
    "\n",
    "The program does not check if the grade is within a valid range (0-100). Adding a validation step improves robustness\n",
    "\n",
    "Using try-except ensures the program doesn't crash if the user enters a non-integer value:"
   ]
  },
  {
   "cell_type": "code",
   "execution_count": null,
   "id": "a3685eb8-a90d-4791-9c08-e1d15b418591",
   "metadata": {},
   "outputs": [],
   "source": []
  },
  {
   "cell_type": "markdown",
   "id": "9c73eaa8-f01f-4ee6-947b-c6e768dd1227",
   "metadata": {},
   "source": [
    "## Print Numbers (For Loop)"
   ]
  },
  {
   "cell_type": "code",
   "execution_count": 4,
   "id": "89e117fe",
   "metadata": {},
   "outputs": [
    {
     "name": "stdout",
     "output_type": "stream",
     "text": [
      "1 2 3 4 5 6 7 8 9 10 "
     ]
    }
   ],
   "source": [
    "for number in range(1, 11):\n",
    "    print(number, end = \" \")"
   ]
  },
  {
   "cell_type": "markdown",
   "id": "610739d1-3da6-429d-9e75-200eb29ec267",
   "metadata": {},
   "source": [
    "## Review \n",
    "\n",
    "The solution correctly prints numbers from 1 to 10 on the same line.\n",
    "\n",
    "The use of end=\" \" ensures that numbers are printed in a single line with spaces. ✅"
   ]
  },
  {
   "cell_type": "code",
   "execution_count": null,
   "id": "916cc63d-8b45-4fdf-ac95-ae15731c37c3",
   "metadata": {},
   "outputs": [],
   "source": []
  },
  {
   "cell_type": "markdown",
   "id": "30e5ccc5-4fe9-414e-bea0-8d4439749eb8",
   "metadata": {},
   "source": [
    "##  Countdown time (while loop)"
   ]
  },
  {
   "cell_type": "code",
   "execution_count": 43,
   "id": "20fef640",
   "metadata": {},
   "outputs": [
    {
     "name": "stdin",
     "output_type": "stream",
     "text": [
      "Enter a number 5\n"
     ]
    },
    {
     "name": "stdout",
     "output_type": "stream",
     "text": [
      "5 4 3 2 1 0 "
     ]
    }
   ],
   "source": [
    "number = int(input(\"Enter a number\"))\n",
    "\n",
    "while number >= 0:\n",
    "    print(number, end = \" \")\n",
    "    number -= 1"
   ]
  },
  {
   "cell_type": "markdown",
   "id": "a0f03ca0-1c57-4ef2-9c42-5d5646de2542",
   "metadata": {},
   "source": [
    "## Review\n",
    "\n",
    "The solution correctly prints a countdown from the given number to 0. ✅ \n",
    "The logic is straightforward, and decrementing number ensures termination. ✅ \n",
    "\n",
    "Improvement Suggestions\n",
    "\n",
    "If a user enters a non-numeric value, the program crashes. Using try-except prevents this\n"
   ]
  },
  {
   "cell_type": "markdown",
   "id": "78325199",
   "metadata": {},
   "source": [
    "# Intermediate Questions"
   ]
  },
  {
   "cell_type": "markdown",
   "id": "7da5a4bc-8238-4e3f-980c-be5122aac262",
   "metadata": {},
   "source": [
    "## Sum of Even Numbers"
   ]
  },
  {
   "cell_type": "code",
   "execution_count": 5,
   "id": "050bb92f",
   "metadata": {},
   "outputs": [
    {
     "name": "stdout",
     "output_type": "stream",
     "text": [
      "650\n"
     ]
    }
   ],
   "source": [
    "total = 0\n",
    "for evenNumber in range(0, 51,2):\n",
    "#     print(evenNumber, end = \" \")\n",
    "    total = total + evenNumber\n",
    "print(total)"
   ]
  },
  {
   "cell_type": "markdown",
   "id": "e28791c1-4333-4371-9826-1cb9aaf8b2d2",
   "metadata": {},
   "source": [
    "## Review \n",
    "\n",
    "The solution correctly calculates the sum of even numbers from 0 to 50.\n",
    "The use of range(0, 51, 2) ensures that only even numbers are iterated over. ✅ \n",
    "\n",
    "Ensure to remove commented code if they are not needed '#     print(evenNumber, end = \" \")'"
   ]
  },
  {
   "cell_type": "markdown",
   "id": "72771303-0341-481a-838f-618717da8f59",
   "metadata": {},
   "source": [
    "##  Simple Guessing Game"
   ]
  },
  {
   "cell_type": "code",
   "execution_count": 17,
   "id": "f27ab24f",
   "metadata": {},
   "outputs": [
    {
     "name": "stdout",
     "output_type": "stream",
     "text": [
      "Guess number between 1 and 20: 10\n",
      "\n",
      "Your guess is too high!\n",
      "Guess number between 1 and 20: 5\n",
      "\n",
      "Your guess is too high!\n",
      "Guess number between 1 and 20: 3\n",
      "\n",
      "Your guess is too low!\n",
      "Guess number between 1 and 20: 4\n",
      "\n",
      "Congratulations! You guessed it!\n"
     ]
    }
   ],
   "source": [
    "import random\n",
    "\n",
    "number = random.randint(1, 20)\n",
    "\n",
    "for i in range(0, 5):\n",
    "    guess = int(input(\"Guess number between 1 and 20: \"))       \n",
    "    if guess == number:\n",
    "        print(\"Congratulations! You guessed it!\")       \n",
    "        break\n",
    "        \n",
    "    elif guess < number:\n",
    "        print(\"Your guess is too low!\")\n",
    "    else:\n",
    "        print(\"Your guess is too high!\") \n",
    "        \n",
    "if i == 4 and guess != number:\n",
    "    print(\"Game over!\")\n",
    "        "
   ]
  },
  {
   "cell_type": "markdown",
   "id": "e0691e58-93fd-4175-967f-6433a4e6334b",
   "metadata": {},
   "source": [
    "## Review \n",
    "\n",
    "The solution correctly implements a number guessing game where the user gets 5 attempts.\n",
    "The game structure is clear, with proper messages guiding the user. ✅ \n",
    "\n",
    "Improvement Suggestions:\n",
    "\n",
    "Fix the if i == 4 and guess != number Condition:\n",
    "\n",
    "The variable i is always 4 after the loop completes, even if the player guessed correctly.\n",
    "\n",
    "Instead, check if the loop ended naturally without breaking by using an else after the loop\n",
    "\n",
    "If the user enters a non-integer (like \"hello\"), the program will crash.\n",
    "Adding a try-except block prevents this\n",
    "\n"
   ]
  },
  {
   "cell_type": "code",
   "execution_count": 7,
   "id": "d8b2f1a7-3b02-4461-bac4-d529d653545b",
   "metadata": {},
   "outputs": [
    {
     "name": "stdin",
     "output_type": "stream",
     "text": [
      "Guess number between 1 and 20:  8\n"
     ]
    },
    {
     "name": "stdout",
     "output_type": "stream",
     "text": [
      "Your guess is too low!\n"
     ]
    },
    {
     "name": "stdin",
     "output_type": "stream",
     "text": [
      "Guess number between 1 and 20:  10\n"
     ]
    },
    {
     "name": "stdout",
     "output_type": "stream",
     "text": [
      "Your guess is too low!\n"
     ]
    },
    {
     "name": "stdin",
     "output_type": "stream",
     "text": [
      "Guess number between 1 and 20:  15\n"
     ]
    },
    {
     "name": "stdout",
     "output_type": "stream",
     "text": [
      "Your guess is too high!\n"
     ]
    },
    {
     "name": "stdin",
     "output_type": "stream",
     "text": [
      "Guess number between 1 and 20:  13\n"
     ]
    },
    {
     "name": "stdout",
     "output_type": "stream",
     "text": [
      "Your guess is too high!\n"
     ]
    },
    {
     "name": "stdin",
     "output_type": "stream",
     "text": [
      "Guess number between 1 and 20:  11\n"
     ]
    },
    {
     "name": "stdout",
     "output_type": "stream",
     "text": [
      "Congratulations! You guessed it!\n"
     ]
    }
   ],
   "source": [
    "## improved code\n",
    "import random\n",
    "\n",
    "number = random.randint(1, 20)\n",
    "\n",
    "for i in range(5):\n",
    "    try:\n",
    "        guess = int(input(\"Guess number between 1 and 20: \"))       \n",
    "        if guess == number:\n",
    "            print(\"Congratulations! You guessed it!\")       \n",
    "            break\n",
    "        elif guess < number:\n",
    "            print(\"Your guess is too low!\")\n",
    "        else:\n",
    "            print(\"Your guess is too high!\") \n",
    "    except ValueError:\n",
    "        print(\"Invalid input! Please enter a number.\")\n",
    "else:\n",
    "    print(\"Game over! The correct number was\", number)\n",
    "\n"
   ]
  },
  {
   "cell_type": "markdown",
   "id": "2a2465da-cebf-4276-98fe-1b27398d5b11",
   "metadata": {},
   "source": [
    "## Password Checker (If Statement + While Loop)"
   ]
  },
  {
   "cell_type": "markdown",
   "id": "a9ef25e4-4f21-441c-aeff-bd46fafc0cfc",
   "metadata": {},
   "source": [
    "password = \"Python123\"\n",
    "\n",
    "i = 5\n",
    "while i > 0:\n",
    "    inputpwd = input(\"Enter password: \")\n",
    "    i -= 1\n",
    "    if inputpwd == password:\n",
    "        print(\"\\nAccess granted!\")\n",
    "        break\n",
    "    elif inputpwd != password:\n",
    "        print(f\"\\nTry again!, you have {i} attempts left\")   \n",
    "    if i == 0:\n",
    "        print(\"\\nAccess denied!\")\n",
    "        break"
   ]
  },
  {
   "cell_type": "markdown",
   "id": "0418ed7a-6a93-4137-a71a-13f33f512a75",
   "metadata": {},
   "source": [
    "## Review \n",
    "\n",
    "The solution correctly implements a password attempt system with 5 tries.\n",
    "The logic is clear, and the messages guide the user effectively. ✅ \n",
    "\n",
    "Improvement Suggestion\n",
    "\n",
    "The elif inputpwd != password: is unnecessary because if the first condition (if inputpwd == password) fails, it’s already known that the passwords don’t match.\n",
    "\n",
    "Simply move the \"Try again!\" message to an else block:\n"
   ]
  },
  {
   "cell_type": "markdown",
   "id": "01d123ab-c073-47e1-a29f-c1909cf785f5",
   "metadata": {},
   "source": [
    "##  Nested Loops Practice"
   ]
  },
  {
   "cell_type": "code",
   "execution_count": 59,
   "id": "11e95bc5",
   "metadata": {},
   "outputs": [
    {
     "name": "stdout",
     "output_type": "stream",
     "text": [
      "*\n",
      "**\n",
      "***\n",
      "****\n",
      "*****\n"
     ]
    }
   ],
   "source": [
    "for i in range(1,6):\n",
    "    for j in range(0, i):\n",
    "        print(\"*\", end = \"\")\n",
    "    print(\"\")"
   ]
  },
  {
   "cell_type": "markdown",
   "id": "5ae918b2-1276-48cf-9db5-e5db2d312395",
   "metadata": {},
   "source": [
    "## Review\n",
    "\n",
    "The program correctly prints a right-angled triangle pattern of stars (*).\n",
    "The nested loop structure is straightforward, making it easy to understand. ✅ \n",
    "\n",
    "Improvement suggestion\n",
    "\n",
    "Use String Multiplication to Simplify the Code\n",
    "Instead of using a nested loop, you can print the stars directly using string multiplication\n",
    "\n",
    "for i in range(1, 6):\n",
    "    print(\"*\" * i)\n"
   ]
  },
  {
   "cell_type": "markdown",
   "id": "4db6eea8-b06f-49b3-b9a2-5114458169d2",
   "metadata": {},
   "source": [
    "## NumberTriangle"
   ]
  },
  {
   "cell_type": "code",
   "execution_count": 82,
   "id": "f7a28833",
   "metadata": {},
   "outputs": [
    {
     "name": "stdout",
     "output_type": "stream",
     "text": [
      "1 \n",
      "1 2 \n",
      "1 2 3 \n",
      "1 2 3 4 \n",
      "1 2 3 4 5 \n"
     ]
    }
   ],
   "source": [
    "for i in range(1,6):\n",
    "    for j in range(0, i):\n",
    "        print(j+1, end = \" \")\n",
    "    print(\"\")    "
   ]
  },
  {
   "cell_type": "markdown",
   "id": "8a9ba7cc-5f03-48c3-894a-4df45f30560e",
   "metadata": {},
   "source": [
    "## Review\n",
    "\n",
    "The program correctly prints a right-angled triangle pattern of numbers.\n",
    " The nested loop structure is clear and easy to understand. ✅"
   ]
  },
  {
   "cell_type": "markdown",
   "id": "570e5b6b-18c2-4a8d-8171-34e891cba239",
   "metadata": {},
   "source": [
    "# Advanced Questions"
   ]
  },
  {
   "cell_type": "markdown",
   "id": "f6541dee-c466-4ba1-bcda-015a02da5857",
   "metadata": {},
   "source": [
    "## Advanced Grade Checker"
   ]
  },
  {
   "cell_type": "code",
   "execution_count": 7,
   "id": "b059c68f",
   "metadata": {},
   "outputs": [
    {
     "name": "stdin",
     "output_type": "stream",
     "text": [
      "Enter your score:  -20\n"
     ]
    },
    {
     "name": "stdout",
     "output_type": "stream",
     "text": [
      "Invalid score\n"
     ]
    }
   ],
   "source": [
    "grade = int(input(\"Enter your score: \"))\n",
    "if grade > 100 or grade < 0:\n",
    "    print(\"Invalid score\")\n",
    "elif grade >= 90:\n",
    "    print(\"Your grade is A\")\n",
    "elif grade >= 80:\n",
    "    print(\"Your grade is B\") \n",
    "elif grade >= 70:\n",
    "    print(\"Your grade is C\")     \n",
    "elif grade >= 60:\n",
    "    print(\"Your grade is D\")\n",
    "else:\n",
    "    print(\"Your grade is F\")\n",
    "    "
   ]
  },
  {
   "cell_type": "markdown",
   "id": "bd7dfd05-0758-4101-b79e-477d68f8e420",
   "metadata": {},
   "source": [
    "## Review\n",
    "\n",
    "The program correctly assigns letter grades based on numerical scores.\n",
    "The structure is clear, and the conditions are well-ordered. ✅ \n",
    "\n",
    "Improvement Suggestions\n",
    "\n",
    "If a user enters non-numeric input (e.g., \"hello\"), the program will crash. Adding error handling prevents this"
   ]
  },
  {
   "cell_type": "markdown",
   "id": "caf9663d-7d63-492a-b138-369a23d755da",
   "metadata": {},
   "source": [
    "##  Guessing Game with Enhanced Feedback"
   ]
  },
  {
   "cell_type": "code",
   "execution_count": 8,
   "id": "6c3afc49",
   "metadata": {},
   "outputs": [
    {
     "name": "stdin",
     "output_type": "stream",
     "text": [
      "Guess number between 1 and 20:  50\n"
     ]
    },
    {
     "name": "stdout",
     "output_type": "stream",
     "text": [
      "Your guess is too high!\n"
     ]
    },
    {
     "name": "stdin",
     "output_type": "stream",
     "text": [
      "Guess number between 1 and 20:  10\n"
     ]
    },
    {
     "name": "stdout",
     "output_type": "stream",
     "text": [
      "Your guess is too high!\n"
     ]
    },
    {
     "name": "stdin",
     "output_type": "stream",
     "text": [
      "Guess number between 1 and 20:  5\n"
     ]
    },
    {
     "name": "stdout",
     "output_type": "stream",
     "text": [
      "Your guess is too low!\n"
     ]
    },
    {
     "name": "stdin",
     "output_type": "stream",
     "text": [
      "Guess number between 1 and 20:  7\n"
     ]
    },
    {
     "name": "stdout",
     "output_type": "stream",
     "text": [
      "Your guess is too low!\n"
     ]
    },
    {
     "name": "stdin",
     "output_type": "stream",
     "text": [
      "Guess number between 1 and 20:  8\n"
     ]
    },
    {
     "name": "stdout",
     "output_type": "stream",
     "text": [
      "Your guess is too low!\n",
      "\n",
      "Your score is: 0\n",
      "Game over!\n"
     ]
    }
   ],
   "source": [
    "import random\n",
    "\n",
    "number = random.randint(1, 20)\n",
    "\n",
    "for i in range(0, 5):\n",
    "    guess = int(input(\"Guess number between 1 and 20: \"))       \n",
    "    if guess == number:\n",
    "        print(\"Congratulations! You guessed it!\")\n",
    "        print(f\"\\nYour score is: {100 - 10*(1.5*i)}\")        \n",
    "        break\n",
    "        \n",
    "    elif guess < number:\n",
    "        print(\"Your guess is too low!\")\n",
    "    else:\n",
    "        print(\"Your guess is too high!\") \n",
    "        \n",
    "if i == 4 and guess != number:\n",
    "    print(f\"\\nYour score is: 0\")   \n",
    "    print(\"Game over!\")\n",
    "        "
   ]
  },
  {
   "cell_type": "markdown",
   "id": "cdd316f9-d763-437b-a02a-2d2a90570bbc",
   "metadata": {},
   "source": [
    "## Review \n",
    "The program correctly implements a number guessing game with 5 attempts and a scoring system.\n",
    "The logic is structured well, and the feedback messages guide the user.\n",
    "\n",
    "❌ Issues:\n",
    "The formula 100 - 10*(1.5*i) can result in a non-integer score because 1.5*i produces a float.\n",
    "\n",
    "Example: If the user wins on the third attempt (i=2), the score will be 100 - 10*(1.5*2) = 70.0, which includes a decimal point.\n",
    "\n",
    "If integer scores are expected, use int() to round it\n"
   ]
  },
  {
   "cell_type": "code",
   "execution_count": null,
   "id": "7f778346-d0fe-4d7f-b60f-5354b34959e7",
   "metadata": {},
   "outputs": [],
   "source": [
    "import random\n",
    "\n",
    "number = random.randint(1, 20)\n",
    "\n",
    "for i in range(5):\n",
    "    try:\n",
    "        guess = int(input(\"Guess number between 1 and 20: \"))       \n",
    "        if guess == number:\n",
    "            print(\"Congratulations! You guessed it!\")\n",
    "            print(f\"\\nYour score is: {int(100 - 10*(1.5*i))}\")\n",
    "            break\n",
    "        elif guess < number:\n",
    "            print(\"Your guess is too low!\")\n",
    "        else:\n",
    "            print(\"Your guess is too high!\") \n",
    "    except ValueError:\n",
    "        print(\"Invalid input! Please enter a number.\")\n",
    "\n",
    "else:  # Runs only if the loop completes without a correct guess\n",
    "    print(\"\\nYour score is: 0\")   \n",
    "    print(\"Game over!\")\n"
   ]
  },
  {
   "cell_type": "markdown",
   "id": "b8cd8ecd-dc3a-4cc4-8b4c-12c732f4efb5",
   "metadata": {},
   "source": [
    "##  Sum of Digits"
   ]
  },
  {
   "cell_type": "code",
   "execution_count": 98,
   "id": "3295934e",
   "metadata": {},
   "outputs": [
    {
     "name": "stdout",
     "output_type": "stream",
     "text": [
      "Enter a number:1234\n",
      "The sum of digits is 10\n"
     ]
    }
   ],
   "source": [
    "number = int(input(\"Enter a number:\"))\n",
    "sumDigits = 0\n",
    "for i in str(number):\n",
    "    sumDigits += int(i)\n",
    "print(f\"The sum of digits is {sumDigits}\")"
   ]
  },
  {
   "cell_type": "markdown",
   "id": "d5d1e86f-ff41-4e22-99be-d4bae778920b",
   "metadata": {},
   "source": [
    "## Review\n",
    "\n",
    "The program correctly calculates the sum of the digits of an integer.\n",
    "\n",
    "The logic is simple and easy to understand. ✅\n",
    "\n",
    " Improvement Suggestions:\n",
    "\n",
    "Handle Negative Numbers Properly\n",
    "\n",
    "If the user enters a negative number, str(number) will include a \"-\", which causes an error when converting i to an integer.\n",
    "\n",
    "Fix this by using abs(number) to ensure the digits are processed correctly\n"
   ]
  },
  {
   "cell_type": "code",
   "execution_count": null,
   "id": "9f4fecf8-40fc-4300-82cd-af603c917635",
   "metadata": {},
   "outputs": [],
   "source": [
    "number = int(input(\"Enter a number:\"))\n",
    "sumDigits = sum(int(i) for i in str(abs(number)))  # Use abs() to remove negative sign\n",
    "print(f\"The sum of digits is {sumDigits}\")\n"
   ]
  },
  {
   "cell_type": "markdown",
   "id": "1ff04e0b-5462-4a05-9412-3df16fe8125a",
   "metadata": {},
   "source": [
    "## Prime Numbers in Range"
   ]
  },
  {
   "cell_type": "code",
   "execution_count": 39,
   "id": "e59c166b-52ff-4c02-85eb-a6e131a13b7b",
   "metadata": {},
   "outputs": [
    {
     "name": "stdout",
     "output_type": "stream",
     "text": [
      "2 3 5 7 11 13 17 19 23 29 31 37 41 43 47 53 59 61 67 71 73 79 83 89 97 "
     ]
    }
   ],
   "source": [
    "isPrime = False\n",
    "for prime in range(2,100 + 1):\n",
    "    for divisor in range(2, prime):\n",
    "        if prime%divisor == 0:\n",
    "            isPrime = True\n",
    "            break\n",
    "        else:\n",
    "            isPrime = False\n",
    "    if isPrime == False:\n",
    "        print(prime, end = \" \")"
   ]
  },
  {
   "cell_type": "markdown",
   "id": "f26e31b0-adc3-456d-ac2b-2d15144c9d99",
   "metadata": {},
   "source": [
    "## Review\n",
    "\n",
    "✅ Correctness: The program attempts to find prime numbers between 2 and 100.\n",
    "\n",
    "❌ Logical Issue: The isPrime flag is being set inside the inner loop incorrectly, leading to incorrect results.\n",
    "\n",
    "Issues\n",
    "\n",
    "The isPrime Flag is Flawed:\n",
    "\n",
    "The flag is updated every iteration of the inner loop, which causes incorrect results.\n",
    "    \n",
    "Instead, isPrime should be initialized as True for each number and only set to False when a divisor is found."
   ]
  },
  {
   "cell_type": "code",
   "execution_count": 9,
   "id": "2bb596ca-1df5-4fb6-bfb8-e58a1ef77ef2",
   "metadata": {},
   "outputs": [
    {
     "name": "stdout",
     "output_type": "stream",
     "text": [
      "2 3 5 7 11 13 17 19 23 29 31 37 41 43 47 53 59 61 67 71 73 79 83 89 97 "
     ]
    }
   ],
   "source": [
    "## improved code\n",
    "for prime in range(2, 101):\n",
    "    isPrime = True  # Reset the flag for each number\n",
    "    for divisor in range(2, int(prime ** 0.5) + 1):  # Only check up to sqrt(prime)\n",
    "        if prime % divisor == 0:\n",
    "            isPrime = False\n",
    "            break\n",
    "    if isPrime:\n",
    "        print(prime, end=\" \")\n"
   ]
  },
  {
   "cell_type": "markdown",
   "id": "a368c1ce-838f-4b24-a97e-b7cd8c608207",
   "metadata": {},
   "source": [
    "## Advanced Countdown Timer"
   ]
  },
  {
   "cell_type": "code",
   "execution_count": 45,
   "id": "7bbed818-7c87-4b29-a711-d708b52e84e6",
   "metadata": {},
   "outputs": [
    {
     "name": "stdin",
     "output_type": "stream",
     "text": [
      "Enter a number 10\n"
     ]
    },
    {
     "name": "stdout",
     "output_type": "stream",
     "text": [
      "10 9 8 7 6 5 4 3 2 1 0 \n",
      "Time's up\n"
     ]
    }
   ],
   "source": [
    "import time\n",
    "number = int(input(\"Enter a number\"))\n",
    "\n",
    "while number >= 0:\n",
    "    print(number, end = \" \") \n",
    "    number -= 1\n",
    "    time.sleep(1)\n",
    "print(\"\\nTime's up\")"
   ]
  },
  {
   "cell_type": "markdown",
   "id": "277d64b6-f644-44ed-9036-842ea8c9a54f",
   "metadata": {},
   "source": [
    "## Review\n",
    "\n",
    "✅ Correctness: The program correctly implements a countdown timer that prints numbers at 1-second intervals.\n",
    "\n",
    "✅ Clarity: The loop structure is straightforward, and time.sleep(1) creates a real-time countdown effect.\n",
    "\n",
    "💡 Improvement Suggestions:\n",
    "\n",
    "Improve Readability - Print Each Number on a New Line:\n",
    "\n",
    "The current output prints numbers on one line, which might be less readable.\n",
    "Instead, print each number on a new line\n"
   ]
  },
  {
   "cell_type": "markdown",
   "id": "9d7d85b2-7312-4e0b-a6a5-5bb8efb46b09",
   "metadata": {},
   "source": [
    "<h1>************************ The End ************************"
   ]
  },
  {
   "cell_type": "code",
   "execution_count": null,
   "id": "2b4db5f0-67f5-494b-ae7b-2dd8f57eaf51",
   "metadata": {},
   "outputs": [],
   "source": []
  }
 ],
 "metadata": {
  "kernelspec": {
   "display_name": "Python 3 (ipykernel)",
   "language": "python",
   "name": "python3"
  },
  "language_info": {
   "codemirror_mode": {
    "name": "ipython",
    "version": 3
   },
   "file_extension": ".py",
   "mimetype": "text/x-python",
   "name": "python",
   "nbconvert_exporter": "python",
   "pygments_lexer": "ipython3",
   "version": "3.12.7"
  },
  "toc": {
   "base_numbering": 1,
   "nav_menu": {},
   "number_sections": true,
   "sideBar": true,
   "skip_h1_title": false,
   "title_cell": "Table of Contents",
   "title_sidebar": "Contents",
   "toc_cell": false,
   "toc_position": {},
   "toc_section_display": true,
   "toc_window_display": false
  }
 },
 "nbformat": 4,
 "nbformat_minor": 5
}
