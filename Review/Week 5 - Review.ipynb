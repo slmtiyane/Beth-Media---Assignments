{
 "cells": [
  {
   "cell_type": "markdown",
   "id": "8202f8a1-32fb-4025-8497-4b616f49e338",
   "metadata": {},
   "source": [
    "# Beginner"
   ]
  },
  {
   "cell_type": "code",
   "execution_count": 1,
   "id": "12afe3e3-8aaf-4b23-9499-e9b4b7100284",
   "metadata": {},
   "outputs": [
    {
     "name": "stdout",
     "output_type": "stream",
     "text": [
      "0.2\n"
     ]
    }
   ],
   "source": [
    "# 1. Write a function divide_numbers(a, b) that returns the result of a / b. Handle the\n",
    "# case where b is zero by returning \"Cannot divide by zero\".\n",
    "\n",
    "def divide_numbers(a, b):\n",
    "    try:\n",
    "        x = a/b\n",
    "    except ZeroDivisionError: \n",
    "        print(\"Cannot divide by zero\")\n",
    "    else:\n",
    "        return x\n",
    "        \n",
    "print(divide_numbers(1, 5))"
   ]
  },
  {
   "cell_type": "markdown",
   "id": "d00e14c9-b569-4518-ae08-56fb42c457f5",
   "metadata": {},
   "source": [
    "## Review\n",
    "\n",
    "Your solution is almost correct, but there's a small issue in how you handle the ZeroDivisionError case.\n",
    "\n",
    "Issue:\n",
    "\n",
    "If b is 0, the function prints \"Cannot divide by zero\", but it should return that message instead.\n",
    "    \n",
    "Using print() inside the except block means the function still returns None, which might be unexpected behavior."
   ]
  },
  {
   "cell_type": "code",
   "execution_count": 2,
   "id": "7c8845dc-f32e-49af-b4d1-4fdb4b1b3324",
   "metadata": {},
   "outputs": [
    {
     "name": "stdin",
     "output_type": "stream",
     "text": [
      "Enter an integer:  5\n"
     ]
    },
    {
     "name": "stdout",
     "output_type": "stream",
     "text": [
      "You entered 5\n"
     ]
    }
   ],
   "source": [
    "# 2. Write a program that reads an integer input from the user. Use a try-except block\n",
    "# to handle Value Error if the user enters invalid data (e.g., a string like \"abc\").\n",
    "try:\n",
    "    number = int(input(\"Enter an integer: \"))\n",
    "except ValueError:\n",
    "    print(\"Invalid data\")\n",
    "else:\n",
    "    print(f\"You entered {number}\")\n",
    "    \n",
    "    "
   ]
  },
  {
   "cell_type": "markdown",
   "id": "b9444ca0-bd2d-46ae-aa8a-6b46dfa4a764",
   "metadata": {},
   "source": [
    "## Review\n",
    "\n",
    "✅ Your solution is correct! "
   ]
  },
  {
   "cell_type": "code",
   "execution_count": 4,
   "id": "bbbd703d-dc8b-4962-b8cb-b0633f775c90",
   "metadata": {},
   "outputs": [
    {
     "name": "stdin",
     "output_type": "stream",
     "text": [
      "Enter age:  u\n"
     ]
    },
    {
     "name": "stdout",
     "output_type": "stream",
     "text": [
      "Age must be a number\n"
     ]
    }
   ],
   "source": [
    "# 3. Write a small program that prompts the user for their age (as an integer) and uses\n",
    "# a try-except block to handle ValueError in case the user inputs a non-integer (e.g.,\n",
    "# \"twenty\").\n",
    "\n",
    "try:\n",
    "    age = int(input(\"Enter age: \"))\n",
    "except ValueError:\n",
    "    print(\"Age must be a number\")\n",
    "else:\n",
    "    print(f\"Age: {age}\")\n",
    "    \n",
    "\n"
   ]
  },
  {
   "cell_type": "markdown",
   "id": "f2a1a69e-10cd-4245-9df2-a0cd4fd41219",
   "metadata": {},
   "source": [
    "## Review\n",
    "\n",
    "\n",
    "✅ Your solution is correct!\n"
   ]
  },
  {
   "cell_type": "code",
   "execution_count": 5,
   "id": "6040439e-1116-426f-bc2d-6f9b3220e639",
   "metadata": {},
   "outputs": [
    {
     "name": "stdout",
     "output_type": "stream",
     "text": [
      "Erroneous input\n",
      "[1, 2]\n"
     ]
    }
   ],
   "source": [
    "# 4. Create a function convert_to_int_list(str_list) that takes a list of strings (e.g., [\"1\",\n",
    "# \"2\", \"abc\", \"4\"]) and returns a new list of integers. Use a try-except block inside a\n",
    "# loop to handle any ValueError when a string can’t be converted, and print an\n",
    "# error message without stopping the entire process.\n",
    "\n",
    "def convert_to_int_list(str_list):\n",
    "    newList = []\n",
    "    try:\n",
    "        for i in str_list:\n",
    "            newList.append(int(i))\n",
    "    except ValueError:\n",
    "        print(\"Erroneous input\")\n",
    "    finally:\n",
    "        print(newList)\n",
    "\n",
    "\n",
    "convert_to_int_list([\"1\", \"2\", \"abc\", \"4\"])"
   ]
  },
  {
   "cell_type": "markdown",
   "id": "c23770b6-2ee7-41f8-aded-de1e3512932e",
   "metadata": {},
   "source": [
    "## Review\n",
    "\n",
    "Your solution is almost correct, but there are a few issues:\n",
    "\n",
    "Issues & Fixes:\n",
    "The try-except block is in the wrong place:\n",
    "\n",
    "If an error occurs inside the loop, the program exits the loop due to the except block.\n",
    "Instead, the try-except block should be inside the loop to allow processing of valid numbers while skipping invalid ones.\n",
    "Wrong finally usage:\n",
    "\n",
    "finally executes regardless of whether an error occurs or not. It is not needed here.\n",
    "Instead, return the valid list at the end.\n",
    "Better error message:\n",
    "\n",
    "Print the exact erroneous value to improve debugging."
   ]
  },
  {
   "cell_type": "code",
   "execution_count": 6,
   "id": "0d1511b9-6e49-430e-9ce6-e10ac2cdc9a1",
   "metadata": {},
   "outputs": [],
   "source": [
    "# 5. Create a function access_list_item(my_list, index) that attempts to return the\n",
    "# element at index. Handle IndexError by printing a message like \"Index out of\n",
    "# range\" if the requested index is invalid.\n",
    "\n",
    "def access_list_item(my_list, index):\n",
    "    if index > len(my_list):\n",
    "        raise IndexError (\"Index out of range\")\n",
    "    else:\n",
    "        print(f\"{my_list[index]}\")\n"
   ]
  },
  {
   "cell_type": "code",
   "execution_count": 7,
   "id": "06cf8775-83f2-4ae6-b2f3-4a15e42a53ab",
   "metadata": {},
   "outputs": [
    {
     "ename": "IndexError",
     "evalue": "list index out of range",
     "output_type": "error",
     "traceback": [
      "\u001b[1;31m---------------------------------------------------------------------------\u001b[0m",
      "\u001b[1;31mIndexError\u001b[0m                                Traceback (most recent call last)",
      "Cell \u001b[1;32mIn[7], line 1\u001b[0m\n\u001b[1;32m----> 1\u001b[0m access_list_item([\u001b[38;5;241m1\u001b[39m,\u001b[38;5;241m2\u001b[39m,\u001b[38;5;241m3\u001b[39m,\u001b[38;5;241m4\u001b[39m,\u001b[38;5;241m5\u001b[39m], \u001b[38;5;241m5\u001b[39m)\n",
      "Cell \u001b[1;32mIn[6], line 9\u001b[0m, in \u001b[0;36maccess_list_item\u001b[1;34m(my_list, index)\u001b[0m\n\u001b[0;32m      7\u001b[0m     \u001b[38;5;28;01mraise\u001b[39;00m \u001b[38;5;167;01mIndexError\u001b[39;00m (\u001b[38;5;124m\"\u001b[39m\u001b[38;5;124mIndex out of range\u001b[39m\u001b[38;5;124m\"\u001b[39m)\n\u001b[0;32m      8\u001b[0m \u001b[38;5;28;01melse\u001b[39;00m:\n\u001b[1;32m----> 9\u001b[0m     \u001b[38;5;28mprint\u001b[39m(\u001b[38;5;124mf\u001b[39m\u001b[38;5;124m\"\u001b[39m\u001b[38;5;132;01m{\u001b[39;00mmy_list[index]\u001b[38;5;132;01m}\u001b[39;00m\u001b[38;5;124m\"\u001b[39m)\n",
      "\u001b[1;31mIndexError\u001b[0m: list index out of range"
     ]
    }
   ],
   "source": [
    "access_list_item([1,2,3,4,5], 5)"
   ]
  },
  {
   "cell_type": "markdown",
   "id": "53ed6db2-f815-4c99-a95a-61fc4cb9aa74",
   "metadata": {},
   "source": [
    "## Review\n",
    "\n",
    "Your solution has a small mistake in how the IndexError is checked.\n",
    "\n",
    "Issues & Fixes:\n",
    "Incorrect Index Check:\n",
    "\n",
    "if index > len(my_list): is incorrect because list indices start at 0.\n",
    "It should be if index >= len(my_list):, since len(my_list) is out of bounds.\n",
    "Use try-except Instead of raise:\n",
    "\n",
    "Instead of manually raising an error, handle the IndexError inside a try-except block."
   ]
  },
  {
   "cell_type": "code",
   "execution_count": 8,
   "id": "6a3ed520-6835-4d66-b07b-c08323718b1b",
   "metadata": {},
   "outputs": [
    {
     "name": "stdout",
     "output_type": "stream",
     "text": [
      "Index out of range\n",
      "4\n"
     ]
    }
   ],
   "source": [
    "#suggested solution\n",
    "\n",
    "def access_list_item(my_list, index):\n",
    "    try:\n",
    "        print(my_list[index])  # Attempt to access the index\n",
    "    except IndexError:\n",
    "        print(\"Index out of range\")  # Handle out-of-range access\n",
    "\n",
    "# Test cases\n",
    "access_list_item([1, 2, 3, 4, 5], 5)  \n",
    "access_list_item([1, 2, 3, 4, 5], 3)  \n"
   ]
  },
  {
   "cell_type": "markdown",
   "id": "c7c27713-6bcf-46a6-831e-56734abdd8a3",
   "metadata": {},
   "source": [
    "# Intermediate"
   ]
  },
  {
   "cell_type": "code",
   "execution_count": 9,
   "id": "3f307427-5b16-4da4-8a68-5bfd228f8668",
   "metadata": {},
   "outputs": [
    {
     "name": "stdout",
     "output_type": "stream",
     "text": [
      "The key now does not exist in dictionary\n"
     ]
    }
   ],
   "source": [
    "# 6. Write a function get_key_value(dictionary, key) that returns the value of a given\n",
    "# key from a dictionary. Use KeyError handling to print a friendly message if the\n",
    "# key does not exist.\n",
    "def get_key_value(dictionary, key):\n",
    "    myDict = dict(dictionary)\n",
    "    try:\n",
    "        print(myDict[key])\n",
    "    except KeyError:\n",
    "        print(f\"The key {key} does not exist in dictionary\")\n",
    "\n",
    "get_key_value({\"name\": \"Alice\", \"age\": 30}, \"now\")\n"
   ]
  },
  {
   "cell_type": "markdown",
   "id": "dff4305b-82e3-4be5-8a00-06b8a2f7d711",
   "metadata": {},
   "source": [
    "## Review\n",
    "\n",
    "✅ Your solution is almost correct, but there's a small issue with unnecessary dictionary conversion.\n",
    "\n",
    "\n",
    "Issues & Fixes:\n",
    "\n",
    "No Need to Convert dictionary to dict(dictionary):\n",
    "\n",
    "The function already receives a dictionary, so converting it again is unnecessary.\n",
    "\n",
    "Use return Instead of print:\n",
    "Returning the value makes the function more flexible for reuse."
   ]
  },
  {
   "cell_type": "code",
   "execution_count": 12,
   "id": "79d6fce9-126d-4a5b-a291-9e6ca0fb11f6",
   "metadata": {},
   "outputs": [
    {
     "name": "stdout",
     "output_type": "stream",
     "text": [
      "BMI is -0.62\n"
     ]
    }
   ],
   "source": [
    "# 7. Create a function calculate_bmi(weight, height) that raises a custom exception\n",
    "# InvalidHeightError if height is 0 or negative.\n",
    "\n",
    "def calculate_bmi(weight, height):\n",
    "    if height <= 0:\n",
    "        raise InvalidHeightError (\"Invalid height entered\")\n",
    "    else:\n",
    "        print(f\"BMI is {round((weight/height**2), 2)}\")\n",
    "\n",
    "calculate_bmi(-2, 1.8)"
   ]
  },
  {
   "cell_type": "markdown",
   "id": "6c44cfde-c29d-4e52-8c18-4de79f1d458d",
   "metadata": {},
   "source": [
    "## Review\n",
    "\n",
    "Your solution is almost correct, but there's a small issue:\n",
    "\n",
    "Issues & Fixes:\n",
    "\n",
    "Custom Exception (InvalidHeightError) is Not Defined:\n",
    "\n",
    "You need to define InvalidHeightError as a custom exception before using it.\n",
    "\n",
    "Use return Instead of print:\n",
    "\n",
    "Returning the BMI makes the function more reusable."
   ]
  },
  {
   "cell_type": "code",
   "execution_count": 13,
   "id": "814ae02c-6a7c-4a0f-a64f-682a87ae6521",
   "metadata": {},
   "outputs": [
    {
     "name": "stdout",
     "output_type": "stream",
     "text": [
      "27.78\n",
      "Invalid height entered\n"
     ]
    }
   ],
   "source": [
    "# suggested solution\n",
    "\n",
    "# Define custom exception\n",
    "class InvalidHeightError(Exception):\n",
    "    pass  # Custom exception for invalid height\n",
    "\n",
    "def calculate_bmi(weight, height):\n",
    "    if height <= 0:\n",
    "        raise InvalidHeightError(\"Invalid height entered\")  # Raise custom exception\n",
    "    return round(weight / (height ** 2), 2)  # Return BMI rounded to 2 decimal places\n",
    "\n",
    "# Test cases\n",
    "print(calculate_bmi(90, 1.8))  \n",
    "\n",
    "try:\n",
    "    print(calculate_bmi(90, 0))  # Should raise InvalidHeightError\n",
    "except InvalidHeightError as e:\n",
    "    print(e)  \n"
   ]
  },
  {
   "cell_type": "code",
   "execution_count": 14,
   "id": "64c6eb0a-e20e-4a40-a42d-ea955a417a4e",
   "metadata": {},
   "outputs": [
    {
     "name": "stdout",
     "output_type": "stream",
     "text": [
      "6\n"
     ]
    }
   ],
   "source": [
    "# 8. Use the raise keyword to force a TypeError if a function add_numbers(a, b) is\n",
    "# called with non-integer arguments.\n",
    "\n",
    "def add_numbers(a, b) :\n",
    "    if not isinstance(a, int) or not isinstance(b, int):\n",
    "        raise TypeError (\"Invalid entry to function\")\n",
    "    else:\n",
    "        print(a + b)\n",
    "    \n",
    "add_numbers(1, 5)"
   ]
  },
  {
   "cell_type": "markdown",
   "id": "0f87ad16-072a-4222-8b44-dbc2673e80bf",
   "metadata": {},
   "source": [
    "## Review\n",
    "\n",
    "✅ Your solution is almost correct! 🎯\n",
    "\n",
    "Issues & Fixes:\n",
    "\n",
    "Use return Instead of print:\n",
    "\n",
    "Returning the sum makes the function more reusable.\n",
    "    \n",
    "Improve Error Message:\n",
    "    \n",
    "A clearer message like \"Both arguments must be integers\" improves debugging.\n"
   ]
  },
  {
   "cell_type": "code",
   "execution_count": 15,
   "id": "dd3e13ab-8b9e-4beb-89fa-0ac2dda2cedc",
   "metadata": {},
   "outputs": [
    {
     "name": "stdout",
     "output_type": "stream",
     "text": [
      "Division successful\n"
     ]
    },
    {
     "data": {
      "text/plain": [
       "0.5"
      ]
     },
     "execution_count": 15,
     "metadata": {},
     "output_type": "execute_result"
    }
   ],
   "source": [
    "# 9. Create a function safe_division(a, b) that returns the result of a / b. Handle\n",
    "# ZeroDivisionError with a custom message. Use the else clause to print \"Division\n",
    "# successful!\" when no exception occurs. Return the result only if successful;\n",
    "# otherwise, return None.\n",
    "\n",
    "def safe_division(a, b):\n",
    "    try:\n",
    "        result = a/b\n",
    "    except ZeroDivisionError: \n",
    "        print(\"Cannot divide by zero\")\n",
    "        return None\n",
    "    else:\n",
    "        print(f\"Division successful\")\n",
    "        return result\n",
    "        \n",
    "safe_division(1, 2)"
   ]
  },
  {
   "cell_type": "markdown",
   "id": "637d17cd-a8b8-4407-be8b-76758d0f2460",
   "metadata": {},
   "source": [
    "## Review\n",
    "\n",
    "✅ Your solution is correct!"
   ]
  },
  {
   "cell_type": "markdown",
   "id": "65f61106-d4b5-4cd8-a611-bcfba0d48ae8",
   "metadata": {},
   "source": [
    "******************************** END *****************************************"
   ]
  },
  {
   "cell_type": "code",
   "execution_count": null,
   "id": "2cc34b48-d039-4813-98a3-98ab057d8529",
   "metadata": {},
   "outputs": [],
   "source": []
  }
 ],
 "metadata": {
  "kernelspec": {
   "display_name": "Python 3 (ipykernel)",
   "language": "python",
   "name": "python3"
  },
  "language_info": {
   "codemirror_mode": {
    "name": "ipython",
    "version": 3
   },
   "file_extension": ".py",
   "mimetype": "text/x-python",
   "name": "python",
   "nbconvert_exporter": "python",
   "pygments_lexer": "ipython3",
   "version": "3.12.7"
  }
 },
 "nbformat": 4,
 "nbformat_minor": 5
}
