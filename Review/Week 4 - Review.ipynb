{
 "cells": [
  {
   "cell_type": "markdown",
   "id": "454bd498-d338-47c8-8811-a134265a18ff",
   "metadata": {},
   "source": [
    "# Beginner Level"
   ]
  },
  {
   "cell_type": "code",
   "execution_count": 1,
   "id": "6735b795-6509-4e73-8bd2-3931f5f8b252",
   "metadata": {},
   "outputs": [
    {
     "name": "stdout",
     "output_type": "stream",
     "text": [
      "11\n"
     ]
    }
   ],
   "source": [
    "# 1. Write a program to find the length of the string 'Hello World!' using a built-in function.\n",
    "myStr = \"Hello World\"\n",
    "print(len(myStr))"
   ]
  },
  {
   "cell_type": "markdown",
   "id": "b16f81fa-2f6e-4f69-9c1d-493ff71cb0bb",
   "metadata": {},
   "source": [
    "## Review\n",
    "\n",
    "Your solution is almost correct, but there is a small issue:\n",
    "\n",
    "Missing Exclamation Mark (!) in the String: Your string is \"Hello World\", but the problem specifies 'Hello World!'."
   ]
  },
  {
   "cell_type": "code",
   "execution_count": 2,
   "id": "31ce63a3-1eaf-4247-b62e-dcb7a7f8e1cd",
   "metadata": {},
   "outputs": [
    {
     "name": "stdout",
     "output_type": "stream",
     "text": [
      "<class 'float'>\n"
     ]
    }
   ],
   "source": [
    "# 2. 2. Use the type() function to check the data type of the variable my_var = 3.14.\n",
    "my_var = 3.14\n",
    "print(type(my_var))"
   ]
  },
  {
   "cell_type": "markdown",
   "id": "90ab53e7-8516-49c8-a858-9a846b04ced2",
   "metadata": {},
   "source": [
    "## Review\n",
    "\n",
    "✅ Your solution is correct!"
   ]
  },
  {
   "cell_type": "code",
   "execution_count": 3,
   "id": "30aebf7b-5830-47ff-8d80-685b3a7c7bd9",
   "metadata": {},
   "outputs": [
    {
     "name": "stdout",
     "output_type": "stream",
     "text": [
      "30\n"
     ]
    }
   ],
   "source": [
    "# 3. Calculate the sum of all numbers in the list [5, 10, 15] using a built-in function.\n",
    "myList = [5, 10, 15]\n",
    "print(sum(myList))"
   ]
  },
  {
   "cell_type": "markdown",
   "id": "7529865a-62e9-4e52-bfb7-4729876c2671",
   "metadata": {},
   "source": [
    "## Review\n",
    "\n",
    "✅ Your solution is correct!"
   ]
  },
  {
   "cell_type": "code",
   "execution_count": 4,
   "id": "1c263a7d-f4ab-47df-80a1-82e0b825d5e7",
   "metadata": {},
   "outputs": [
    {
     "name": "stdout",
     "output_type": "stream",
     "text": [
      "3\n"
     ]
    }
   ],
   "source": [
    "# Use the min() function to find the smallest number in [8, 3, 12, 7].\n",
    "myList = [8, 3, 12, 7]\n",
    "print(min(myList))"
   ]
  },
  {
   "cell_type": "markdown",
   "id": "e3b51f78-f161-4d07-88ca-806cf7b9f198",
   "metadata": {},
   "source": [
    "## Review\n",
    "\n",
    "✅ Your solution is correct!"
   ]
  },
  {
   "cell_type": "code",
   "execution_count": 5,
   "id": "381b9607-6432-4756-8c27-bfd7071bed1f",
   "metadata": {},
   "outputs": [
    {
     "name": "stdin",
     "output_type": "stream",
     "text": [
      "Enter word(s): testing\n"
     ]
    },
    {
     "name": "stdout",
     "output_type": "stream",
     "text": [
      "TESTING\n"
     ]
    }
   ],
   "source": [
    "# Write a program that takes user input and prints it in uppercase using a built-in function.\n",
    "myStr = input(\"Enter word(s):\")\n",
    "print(myStr.upper())"
   ]
  },
  {
   "cell_type": "markdown",
   "id": "4072f5ad-e144-4051-a023-d124fbf69bb1",
   "metadata": {},
   "source": [
    "## Review\n",
    "✅ Your solution is correct! "
   ]
  },
  {
   "cell_type": "markdown",
   "id": "425834e5-e869-4679-94ed-6e076a698955",
   "metadata": {},
   "source": [
    "# Intermediate Level"
   ]
  },
  {
   "cell_type": "code",
   "execution_count": 6,
   "id": "ec971c8f-5a85-4c7f-83c4-bc135f6cb0bd",
   "metadata": {},
   "outputs": [
    {
     "data": {
      "text/plain": [
       "[3, 5, 8, 10]"
      ]
     },
     "execution_count": 6,
     "metadata": {},
     "output_type": "execute_result"
    }
   ],
   "source": [
    "# Sort the list [10, 5, 8, 3] in ascending and descending order using a built-in function.\n",
    "myList = [10, 5, 8, 3]\n",
    "sorted(myList)"
   ]
  },
  {
   "cell_type": "code",
   "execution_count": 8,
   "id": "a6f41ec0-9f44-448f-8e91-0e726b278c46",
   "metadata": {},
   "outputs": [
    {
     "data": {
      "text/plain": [
       "[10, 8, 5, 3]"
      ]
     },
     "execution_count": 8,
     "metadata": {},
     "output_type": "execute_result"
    }
   ],
   "source": [
    "myList = [10, 5, 8, 3]\n",
    "sorted(myList, reverse = True)"
   ]
  },
  {
   "cell_type": "markdown",
   "id": "2c6eb4e3-e1d9-4b10-8078-cfa8672e3e58",
   "metadata": {},
   "source": [
    "## Review\n",
    "\n",
    "✅ Your solution is correct!"
   ]
  },
  {
   "cell_type": "code",
   "execution_count": 9,
   "id": "f6e6a998-d158-4408-abd9-abb4038989a5",
   "metadata": {},
   "outputs": [
    {
     "name": "stdout",
     "output_type": "stream",
     "text": [
      "[3, 6]\n"
     ]
    }
   ],
   "source": [
    "# 2. Write a program that accepts a list of numbers and filters out the odd numbers using the filter() function.\n",
    "# NumberList = input(\"Enter list of numbers: \")\n",
    "NumberList = [1, 2, 3, 4, 5, 6]\n",
    "oddNumbers = filter(lambda x: x%3 == 0, NumberList)\n",
    "print(list(oddNumbers))"
   ]
  },
  {
   "cell_type": "markdown",
   "id": "6cf13daa-490e-4e3f-aaa6-619db731cf4d",
   "metadata": {},
   "source": [
    "## Review \n",
    "\n",
    "Your solution has a small mistake in the filtering condition:\n",
    "\n",
    "Issues:\n",
    "Incorrect Filtering Condition: x % 3 == 0 filters numbers divisible by 3, not odd numbers. The correct condition for filtering odd numbers is x % 2 != 0.\n",
    "\n",
    "Unnecessary list() Conversion in Variable Name: The filtered result is an iterator, so you should convert it to a list when printing."
   ]
  },
  {
   "cell_type": "code",
   "execution_count": 10,
   "id": "912f2101-7300-40f9-a281-5cfa6f572722",
   "metadata": {},
   "outputs": [
    {
     "name": "stdout",
     "output_type": "stream",
     "text": [
      "[('John', 80), ('Jane', 90)]\n"
     ]
    }
   ],
   "source": [
    "# 3. Use the zip() function to merge two lists: ['John', 'Jane'] and [80, 90].\n",
    "list1 = [\"John\", \"Jane\"]\n",
    "list2 = [80, 90]\n",
    "\n",
    "comboList = zip(list1, list2)\n",
    "print(list(comboList))"
   ]
  },
  {
   "cell_type": "markdown",
   "id": "540bca66-d432-4516-add4-abd17e87c2cd",
   "metadata": {},
   "source": [
    "## Review\n",
    "\n",
    "✅ Your solution is correct!"
   ]
  },
  {
   "cell_type": "code",
   "execution_count": 11,
   "id": "ef7eb290-112f-48ed-af31-f9b8c892d8b1",
   "metadata": {},
   "outputs": [
    {
     "name": "stdin",
     "output_type": "stream",
     "text": [
      "Enter decimal number:  2.8766\n"
     ]
    },
    {
     "name": "stdout",
     "output_type": "stream",
     "text": [
      "2.88\n"
     ]
    }
   ],
   "source": [
    "# 4. Write a program that rounds a floating-point number (e.g., 3.7654) to 2 decimal places using a built-in function.\n",
    "numberFloat = input(\"Enter decimal number: \")\n",
    "print(round(float(numberFloat), 2))"
   ]
  },
  {
   "cell_type": "markdown",
   "id": "2a1c1363-813d-406a-a0ea-40b95e60aaf4",
   "metadata": {},
   "source": [
    "## Review\n",
    "\n",
    " Your solution is correct! but here's a small improvement:\n",
    "\n",
    "Issues & Fixes:\n",
    "\n",
    "Convert input to float first: Use float(input(...)) directly instead of converting later.\n",
    "\n",
    "Better variable naming: Use number_float instead of numberFloat for readability.\n"
   ]
  },
  {
   "cell_type": "code",
   "execution_count": 12,
   "id": "00059782-59f1-48da-8a0c-81b32dc881b0",
   "metadata": {},
   "outputs": [
    {
     "name": "stdout",
     "output_type": "stream",
     "text": [
      "[4, 16, 36, 64]\n"
     ]
    }
   ],
   "source": [
    "#5. Write a program that maps a function to square each number in the list [2, 4, 6, 8].\n",
    "NumberList = [2, 4, 6, 8]\n",
    "squareNumbers = map(lambda x: x**2, NumberList)\n",
    "print(list(squareNumbers))\n"
   ]
  },
  {
   "cell_type": "markdown",
   "id": "5f3c0149-5943-4c0a-b384-1b5d27557929",
   "metadata": {},
   "source": [
    "## Review\n",
    "\n",
    "✅ Your solution is correct!"
   ]
  },
  {
   "cell_type": "markdown",
   "id": "18ac8bf1-89a1-47e4-9c71-ba7ba4807580",
   "metadata": {},
   "source": [
    "# Advanced level"
   ]
  },
  {
   "cell_type": "code",
   "execution_count": 13,
   "id": "f380fb0b-a39e-437c-9ad4-db4c3061ffa4",
   "metadata": {},
   "outputs": [
    {
     "name": "stdin",
     "output_type": "stream",
     "text": [
      "Enter expressionto evaluate:  2+3\n"
     ]
    },
    {
     "name": "stdout",
     "output_type": "stream",
     "text": [
      "5\n"
     ]
    }
   ],
   "source": [
    "#1. Write a program to evaluate a mathematical expression entered by the user using eval().\n",
    "expression = input(\"Enter expressionto evaluate: \")\n",
    "print(eval(expression))\n"
   ]
  },
  {
   "cell_type": "markdown",
   "id": "0befb9a7-824d-42d5-987f-324a44bc3a00",
   "metadata": {},
   "source": [
    "## Review\n",
    "\n",
    "✅ Your solution is correct!"
   ]
  },
  {
   "cell_type": "code",
   "execution_count": 14,
   "id": "07c9e118-8608-47ce-b678-243a2f6b038f",
   "metadata": {},
   "outputs": [
    {
     "name": "stdout",
     "output_type": "stream",
     "text": [
      "{'John': 60, 'Jane': 90}\n"
     ]
    }
   ],
   "source": [
    "# 2 Create a program that combines two lists (e.g., names and marks) into a dictionary using the zip() function.\n",
    "names = [\"John\", \"Jane\"]\n",
    "marks = [60, 90]\n",
    "myDic = dict(zip(names, marks))\n",
    "\n",
    "print(myDic)"
   ]
  },
  {
   "cell_type": "markdown",
   "id": "07ee174f-dd0e-4cfd-aee7-ba442b26b876",
   "metadata": {},
   "source": [
    "## Review\n",
    "\n",
    "✅ Your solution is correct!"
   ]
  },
  {
   "cell_type": "code",
   "execution_count": 15,
   "id": "6ac3765e-032e-4866-8588-8ff38b04c1e7",
   "metadata": {},
   "outputs": [
    {
     "name": "stdout",
     "output_type": "stream",
     "text": [
      "[0, 1, 1, 2, 3, 5, 8, 13, 21, 34]\n"
     ]
    }
   ],
   "source": [
    "# 3. Write a program that generates the Fibonacci sequence up to 10 terms using range() andlist().\n",
    " \n",
    "fibonacci =[]\n",
    "for i in range(10):\n",
    "    if i <= 0: fibonacci.append(0)\n",
    "    elif i <= 2: fibonacci.append(1)\n",
    "    else: fibonacci.append(fibonacci[i-2] + fibonacci[i-1])        \n",
    "        \n",
    "print(fibonacci)\n",
    "#0, 1, 1, 2, 3, 5, 8, 13, 21, 34, 55, 89, 144, 233, 377, 610, 987, 1597, 2584, 4181"
   ]
  },
  {
   "cell_type": "markdown",
   "id": "b0cc60b3-9616-4b91-9766-e003b098803c",
   "metadata": {},
   "source": [
    "## Review\n",
    "\n",
    "Your solution is almost correct, but there are a few small issues:\n",
    "\n",
    "Issues & Fixes:\n",
    "\n",
    "Incorrect Condition for First Term (i <= 0) → It should be i == 0, since i starts from 0.\n",
    "    \n",
    "Incorrect Condition for Second Term (i <= 2) → It should be i == 1, because Fibonacci starts as [0, 1]."
   ]
  },
  {
   "cell_type": "code",
   "execution_count": 16,
   "id": "dda73e7d-703b-4b34-a229-3033d1586fc3",
   "metadata": {},
   "outputs": [
    {
     "name": "stdout",
     "output_type": "stream",
     "text": [
      "['PYTHON', 'JAVA', 'C++']\n"
     ]
    }
   ],
   "source": [
    "# 4. 4. Use the map() function to apply a function that capitalizes each string in ['python', 'java','c++'].\n",
    "\n",
    "myList = [\"python\", \"java\", \"c++\"]\n",
    "uppermyList = map(lambda x: x.upper(), myList)\n",
    "print(list(uppermyList))"
   ]
  },
  {
   "cell_type": "markdown",
   "id": "782ae1d8-d5cc-4144-a727-3adbb0dadcfc",
   "metadata": {},
   "source": [
    "## Review\n",
    "\n",
    "✅ Your solution is correct!"
   ]
  },
  {
   "cell_type": "code",
   "execution_count": 17,
   "id": "d7d9134e-bd28-4b2e-90b3-f677872cd034",
   "metadata": {},
   "outputs": [
    {
     "name": "stdout",
     "output_type": "stream",
     "text": [
      "['cat', 'dog']\n"
     ]
    }
   ],
   "source": [
    "# 5. Write a program to filter out words shorter than 4 letters from the list ['cat', 'dog', 'elephant', 'tiger'] using filter().\n",
    "\n",
    "myList = [\"cat\", \"dog\", \"elephant\", \"tiger\"]\n",
    "fourLetterAnimal = filter(lambda x: len(x) <= 4, myList)\n",
    "print(list(fourLetterAnimal))"
   ]
  },
  {
   "cell_type": "markdown",
   "id": "5405693b-eb42-438b-b89e-411f03dbbdb3",
   "metadata": {},
   "source": [
    "## Review\n",
    "\n",
    "Your solution is almost correct, but there's a small mistake in the filtering condition:\n",
    "\n",
    "Issue:\n",
    "\n",
    "Your condition len(x) <= 4 filters words that are 4 letters or shorter.\n",
    "    \n",
    "But the task asks to filter out words shorter than 4 letters, so we need len(x) >= 4."
   ]
  },
  {
   "cell_type": "markdown",
   "id": "f8dc820e-53d9-43ad-8c64-75340f895707",
   "metadata": {},
   "source": [
    "<h1>**************************************** The end ***************************************"
   ]
  },
  {
   "cell_type": "code",
   "execution_count": null,
   "id": "1b263383-766a-44b2-8c62-2ed54a4416d0",
   "metadata": {},
   "outputs": [],
   "source": []
  },
  {
   "cell_type": "code",
   "execution_count": null,
   "id": "6aaf036a-467e-45ab-8f1d-270de2b7d946",
   "metadata": {},
   "outputs": [],
   "source": []
  }
 ],
 "metadata": {
  "kernelspec": {
   "display_name": "Python 3 (ipykernel)",
   "language": "python",
   "name": "python3"
  },
  "language_info": {
   "codemirror_mode": {
    "name": "ipython",
    "version": 3
   },
   "file_extension": ".py",
   "mimetype": "text/x-python",
   "name": "python",
   "nbconvert_exporter": "python",
   "pygments_lexer": "ipython3",
   "version": "3.12.7"
  }
 },
 "nbformat": 4,
 "nbformat_minor": 5
}
