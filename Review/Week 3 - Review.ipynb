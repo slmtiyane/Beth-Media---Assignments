{
 "cells": [
  {
   "cell_type": "markdown",
   "id": "454bd498-d338-47c8-8811-a134265a18ff",
   "metadata": {},
   "source": [
    "# Beginner Level"
   ]
  },
  {
   "cell_type": "markdown",
   "id": "cbec3a88-14a4-4b38-a2b1-2650a87dae5a",
   "metadata": {},
   "source": [
    "## The Greeting Machine"
   ]
  },
  {
   "cell_type": "code",
   "execution_count": 1,
   "id": "6735b795-6509-4e73-8bd2-3931f5f8b252",
   "metadata": {},
   "outputs": [],
   "source": [
    "def greet(name):\n",
    "    print(f\"Hello, {name}! Welcome to the world of Python!\")"
   ]
  },
  {
   "cell_type": "code",
   "execution_count": 2,
   "id": "31ce63a3-1eaf-4247-b62e-dcb7a7f8e1cd",
   "metadata": {},
   "outputs": [
    {
     "name": "stdout",
     "output_type": "stream",
     "text": [
      "Hello, Sibusiso! Welcome to the world of Python!\n"
     ]
    }
   ],
   "source": [
    "greet(\"Sibusiso\")"
   ]
  },
  {
   "cell_type": "markdown",
   "id": "5b3803f2-463c-4b4b-a70d-8e95ccfa3f53",
   "metadata": {},
   "source": [
    "## Review\n",
    "Your solution is correct! It correctly prints a personalized greeting using an f-string. ✅\n"
   ]
  },
  {
   "cell_type": "markdown",
   "id": "eb5fbbff-e4a7-47ae-bb30-6aa14c8bca89",
   "metadata": {},
   "source": [
    "## The Recipe Helper"
   ]
  },
  {
   "cell_type": "code",
   "execution_count": 3,
   "id": "1c263a7d-f4ab-47df-80a1-82e0b825d5e7",
   "metadata": {},
   "outputs": [],
   "source": [
    "def make_pancake(flour, eggs, milk):\n",
    "    if min(flour, eggs, milk) > 0:\n",
    "        print(f\"You can make {min(flour, eggs, milk)*4} pancakes\")\n",
    "    else:\n",
    "        print(\"You ingredients are missing\")\n"
   ]
  },
  {
   "cell_type": "code",
   "execution_count": 4,
   "id": "b91db3ad-4b34-4c5a-863f-382607af9eb1",
   "metadata": {},
   "outputs": [
    {
     "name": "stdout",
     "output_type": "stream",
     "text": [
      "You can make 4 pancakes\n"
     ]
    }
   ],
   "source": [
    "make_pancake(1,1,1)"
   ]
  },
  {
   "cell_type": "markdown",
   "id": "bb607746-96fe-4331-aa91-a3c4d39d4e27",
   "metadata": {},
   "source": [
    "## Review\n",
    "\n",
    "Your solution is mostly correct but has a small issue:\n",
    "\n",
    "Logic: min(flour, eggs, milk) * 4 correctly calculates the pancakes.\n",
    "\n",
    "Edge Case Handling: If any ingredient is missing (<= 0), your message is correct but could be more specific (e.g., listing the missing ingredient).\n",
    "\n",
    "Return vs Print: The function should return the result instead of printing it, for better reusability."
   ]
  },
  {
   "cell_type": "code",
   "execution_count": 5,
   "id": "3eff89c9-d8e9-4f6a-9869-1d1a31e32707",
   "metadata": {},
   "outputs": [
    {
     "name": "stdout",
     "output_type": "stream",
     "text": [
      "You can make 4 pancakes\n"
     ]
    }
   ],
   "source": [
    "## Suggested fix\n",
    "\n",
    "def make_pancake(flour, eggs, milk):\n",
    "    if min(flour, eggs, milk) > 0:\n",
    "        return f\"You can make {min(flour, eggs, milk) * 4} pancakes\"\n",
    "    else:\n",
    "        return \"Your ingredients are missing\"\n",
    "\n",
    "print(make_pancake(1, 1, 1))\n"
   ]
  },
  {
   "cell_type": "markdown",
   "id": "018d46f2-4c7f-4609-a8ed-a026acac643c",
   "metadata": {},
   "source": [
    "## Temperature Converter"
   ]
  },
  {
   "cell_type": "code",
   "execution_count": 6,
   "id": "f18d7df7-4efc-47e4-b048-cbb85eeb07a9",
   "metadata": {},
   "outputs": [],
   "source": [
    "def convert_to_fahreheit(celsius):\n",
    "    return (celsius*9/5)+0"
   ]
  },
  {
   "cell_type": "code",
   "execution_count": 7,
   "id": "7aea652b-4069-4cc2-9ebb-c2199b82bc09",
   "metadata": {},
   "outputs": [
    {
     "data": {
      "text/plain": [
       "36.0"
      ]
     },
     "execution_count": 7,
     "metadata": {},
     "output_type": "execute_result"
    }
   ],
   "source": [
    "temperature = convert_to_fahreheit(20)\n",
    "temperature"
   ]
  },
  {
   "cell_type": "markdown",
   "id": "80a10c58-8533-4cf0-ac57-7f5fa52a3bd4",
   "metadata": {},
   "source": [
    "## Review\n",
    "\n",
    "Incorrect formula: You wrote +0 instead of +32. The correct formula is (celsius * 9/5) + 32."
   ]
  },
  {
   "cell_type": "markdown",
   "id": "bdc7edb0-1b2e-4c32-a547-5abd3f795b34",
   "metadata": {},
   "source": [
    "## Number Cruchers"
   ]
  },
  {
   "cell_type": "code",
   "execution_count": 8,
   "id": "4133e851-4485-4b63-852b-3cae5ccae067",
   "metadata": {},
   "outputs": [],
   "source": [
    "def add_two_numbers(num1, num2):\n",
    "    return (num1 + num2)"
   ]
  },
  {
   "cell_type": "code",
   "execution_count": 9,
   "id": "f0df4bf4-4f75-4c12-b1dd-2314e5d6db9d",
   "metadata": {},
   "outputs": [
    {
     "name": "stdout",
     "output_type": "stream",
     "text": [
      "The sum is:  10\n"
     ]
    }
   ],
   "source": [
    "add = add_two_numbers(3, 7)\n",
    "print(\"The sum is: \", add)"
   ]
  },
  {
   "cell_type": "markdown",
   "id": "f1573cfb-8b69-4a5d-b433-19e0f7be0d34",
   "metadata": {},
   "source": [
    "## Review\n",
    "\n",
    "Your solution is almost correct, but there's a small issue with formatting:\n",
    "\n",
    "return num1 + num2  # Removed unnecessary parentheses"
   ]
  },
  {
   "cell_type": "markdown",
   "id": "acd77c51-f775-4b6f-ae86-4e44e925d5c7",
   "metadata": {},
   "source": [
    "## Personalized Welcome"
   ]
  },
  {
   "cell_type": "code",
   "execution_count": 10,
   "id": "30f50105-305d-4a09-a9a8-de49acecc76b",
   "metadata": {},
   "outputs": [],
   "source": [
    "def personalized_welcome(name):\n",
    "    print(f\"Welcome, {name}! You are doing amazing!\")"
   ]
  },
  {
   "cell_type": "code",
   "execution_count": 11,
   "id": "7dca0e5d-8055-4e07-b4a7-2ff632c0af3a",
   "metadata": {},
   "outputs": [
    {
     "name": "stdout",
     "output_type": "stream",
     "text": [
      "Welcome, Superman! You are doing amazing!\n"
     ]
    }
   ],
   "source": [
    "personalized_welcome(\"Superman\")"
   ]
  },
  {
   "cell_type": "markdown",
   "id": "9d3164ae-338e-484e-9019-1bbb60f9f375",
   "metadata": {},
   "source": [
    "## Review\n",
    "\n",
    "✅ Your solution is correct!\n",
    "\n",
    "It correctly uses an f-string to insert the name into the message.\n",
    "    \n",
    "The function prints the expected output when called."
   ]
  },
  {
   "cell_type": "markdown",
   "id": "425834e5-e869-4679-94ed-6e076a698955",
   "metadata": {},
   "source": [
    "# Intermediate Level"
   ]
  },
  {
   "cell_type": "markdown",
   "id": "e9df95c5-26a8-4a59-a102-4037d3686b25",
   "metadata": {},
   "source": [
    "## Math Quiz"
   ]
  },
  {
   "cell_type": "code",
   "execution_count": 12,
   "id": "ec971c8f-5a85-4c7f-83c4-bc135f6cb0bd",
   "metadata": {},
   "outputs": [],
   "source": [
    "def math_quiz(num1, num2):\n",
    "    return (num1 + num2, num1 - num2, num1 * num2, num1 % num2)"
   ]
  },
  {
   "cell_type": "code",
   "execution_count": 13,
   "id": "a6f41ec0-9f44-448f-8e91-0e726b278c46",
   "metadata": {},
   "outputs": [
    {
     "data": {
      "text/plain": [
       "(8, 2, 15, 2)"
      ]
     },
     "execution_count": 13,
     "metadata": {},
     "output_type": "execute_result"
    }
   ],
   "source": [
    "numbers = math_quiz(5,3)\n",
    "numbers\n",
    "# type(numbers)"
   ]
  },
  {
   "cell_type": "markdown",
   "id": "f1fa5e05-72e1-406b-b72a-890c00f783b4",
   "metadata": {},
   "source": [
    "## Review\n",
    "\n",
    "Your solution is almost correct, but there's a small mistake:\n",
    "\n",
    "Wrong Operator for Quotient: You used the modulus operator % instead of division /. The quotient should be num1 / num2.\n",
    "\n",
    "Tuple Structure: Your function correctly returns a tuple with four values."
   ]
  },
  {
   "cell_type": "markdown",
   "id": "45e96e75-4c3b-4b39-8c02-1d36f99a09e3",
   "metadata": {},
   "source": [
    "## Magic Box"
   ]
  },
  {
   "cell_type": "code",
   "execution_count": 14,
   "id": "912f2101-7300-40f9-a281-5cfa6f572722",
   "metadata": {},
   "outputs": [],
   "source": [
    "def magic_box(item1, item2):\n",
    "    print(f\"You have placed {item1} and {item2} in the magic box!\")"
   ]
  },
  {
   "cell_type": "code",
   "execution_count": 15,
   "id": "f6e6a998-d158-4408-abd9-abb4038989a5",
   "metadata": {},
   "outputs": [
    {
     "name": "stdout",
     "output_type": "stream",
     "text": [
      "You have placed a book and a pen in the magic box!\n"
     ]
    }
   ],
   "source": [
    "magic_box(\"a book\", \"a pen\")"
   ]
  },
  {
   "cell_type": "markdown",
   "id": "cad4d94d-8e26-49ae-87f8-9e3b2e5da652",
   "metadata": {},
   "source": [
    "## Review\n",
    "\n",
    "✅ Your solution is correct, but here's a small improvement:\n",
    "\n",
    "Return Instead of Print: Using return makes the function more flexible for reuse."
   ]
  },
  {
   "cell_type": "markdown",
   "id": "a45ad0ca-ff3f-42d7-9289-9bd4c675cb7a",
   "metadata": {},
   "source": [
    "## Superhero Power Check"
   ]
  },
  {
   "cell_type": "code",
   "execution_count": 17,
   "id": "ef7eb290-112f-48ed-af31-f9b8c892d8b1",
   "metadata": {},
   "outputs": [],
   "source": [
    "def can_fly(power_level):\n",
    "    if power_level > 100:\n",
    "        print(\"You can fly\")\n",
    "    else:\n",
    "        print(\"Try again, keep training\")"
   ]
  },
  {
   "cell_type": "code",
   "execution_count": 18,
   "id": "00059782-59f1-48da-8a0c-81b32dc881b0",
   "metadata": {},
   "outputs": [
    {
     "name": "stdout",
     "output_type": "stream",
     "text": [
      "Try again, keep training\n"
     ]
    }
   ],
   "source": [
    "can_fly(100)"
   ]
  },
  {
   "cell_type": "markdown",
   "id": "4dd8feea-6e51-407c-99a9-a35c9dcf21d3",
   "metadata": {},
   "source": [
    "## Review\n",
    "✅ Your solution is correct, but here's a small improvement:\n",
    "\n",
    "Return Instead of Print: Using return makes the function more flexible for reuse."
   ]
  },
  {
   "cell_type": "markdown",
   "id": "1a6ff934-5d17-4160-9dc1-e976f8029211",
   "metadata": {},
   "source": [
    "## Shape Area Calculator"
   ]
  },
  {
   "cell_type": "code",
   "execution_count": 19,
   "id": "f380fb0b-a39e-437c-9ad4-db4c3061ffa4",
   "metadata": {},
   "outputs": [],
   "source": [
    "def calculate_area(shape, dimension1, dimension2=0):\n",
    "    if shape.lower() == \"rectangle\" and min(dimension1, dimension2) > 0:\n",
    "        print(f\"Area of {shape.lower()}: {dimension1*dimension2}\")\n",
    "    elif shape.lower() == \"square\" and min(dimension1) > 0:\n",
    "        print(f\"Area of {shape.lower()}: {dimension1*dimension1}\")\n",
    "    else:\n",
    "        print(\"Please enter shape and dimensions\")\n",
    "    "
   ]
  },
  {
   "cell_type": "code",
   "execution_count": 20,
   "id": "60fb4a3f-a169-4e87-a417-d4c35cb8b33d",
   "metadata": {},
   "outputs": [
    {
     "name": "stdout",
     "output_type": "stream",
     "text": [
      "Area of rectangle: 200\n"
     ]
    }
   ],
   "source": [
    "calculate_area(\"Rectangle\", 10, 20)"
   ]
  },
  {
   "cell_type": "markdown",
   "id": "e49afec1-623d-4545-94d2-593eeab0faab",
   "metadata": {},
   "source": [
    "## Review\n",
    "\n",
    "Your solution is almost correct, but there are a few issues:\n",
    "\n",
    "Incorrect min(dimension1) for squares: min() expects an iterable, but dimension1 is a single number.\n",
    "\n",
    "Default value for dimension2: Instead of using 0, it's better to check if it's needed based on the shape.\n",
    "\n",
    "Use return Instead of print: This improves reusability."
   ]
  },
  {
   "cell_type": "code",
   "execution_count": 21,
   "id": "0785b11d-a1bc-4337-836d-3a4b4cdba91e",
   "metadata": {},
   "outputs": [
    {
     "name": "stdout",
     "output_type": "stream",
     "text": [
      "Area of rectangle: 200\n",
      "Area of square: 25\n"
     ]
    }
   ],
   "source": [
    "# suggested solution\n",
    "\n",
    "def calculate_area(shape, dimension1, dimension2=0):\n",
    "    shape = shape.lower()\n",
    "    \n",
    "    if shape == \"rectangle\" and dimension1 > 0 and dimension2 > 0:\n",
    "        return f\"Area of {shape}: {dimension1 * dimension2}\"\n",
    "    \n",
    "    elif shape == \"square\" and dimension1 > 0:\n",
    "        return f\"Area of {shape}: {dimension1 * dimension1}\"\n",
    "    \n",
    "    else:\n",
    "        return \"Please enter a valid shape and dimensions.\"\n",
    "\n",
    "# Test cases\n",
    "print(calculate_area(\"Rectangle\", 10, 20)) \n",
    "print(calculate_area(\"Square\", 5))         \n",
    "\n"
   ]
  },
  {
   "cell_type": "markdown",
   "id": "9b7b6792-5519-4cc4-a6c4-8519d887f228",
   "metadata": {},
   "source": [
    "## Discount Finder"
   ]
  },
  {
   "cell_type": "code",
   "execution_count": 22,
   "id": "772f67cd-aea5-4188-b4bb-904a703757b7",
   "metadata": {},
   "outputs": [],
   "source": [
    "def calculate_discount(price, discount_percentage):\n",
    "    print(f\"Price of {price} with discount of {discount_percentage}% is {price - price*(discount_percentage/100)}\")"
   ]
  },
  {
   "cell_type": "code",
   "execution_count": 23,
   "id": "4db8be18-8e32-4c24-a362-8ece246fa749",
   "metadata": {},
   "outputs": [
    {
     "name": "stdout",
     "output_type": "stream",
     "text": [
      "Price of 100 with discount of 20% is 80.0\n"
     ]
    }
   ],
   "source": [
    "calculate_discount(100, 20)"
   ]
  },
  {
   "cell_type": "markdown",
   "id": "23a3da3d-ded9-4b8b-8650-9e3b882a94d6",
   "metadata": {},
   "source": [
    "## Review \n",
    "\n",
    "Your solution is almost correct, but there are a few improvements:\n",
    "\n",
    "Use return Instead of print: This makes the function more reusable.\n",
    "    \n",
    "Better Formatting: The final discounted price should be rounded for better readability."
   ]
  },
  {
   "cell_type": "code",
   "execution_count": 24,
   "id": "aca7bd49-d169-491c-b020-1de385437f7d",
   "metadata": {},
   "outputs": [
    {
     "name": "stdout",
     "output_type": "stream",
     "text": [
      "80.0\n"
     ]
    }
   ],
   "source": [
    "# suggested \n",
    "\n",
    "def calculate_discount(price, discount_percentage):\n",
    "    discounted_price = price - (price * (discount_percentage / 100))\n",
    "    return round(discounted_price, 2) \n",
    "\n",
    "# Test the function\n",
    "print(calculate_discount(100, 20))  \n"
   ]
  },
  {
   "cell_type": "markdown",
   "id": "18ac8bf1-89a1-47e4-9c71-ba7ba4807580",
   "metadata": {},
   "source": [
    "# Advanced level"
   ]
  },
  {
   "cell_type": "markdown",
   "id": "865717c9-3e48-4108-9c1b-7341228c5b08",
   "metadata": {},
   "source": [
    "## Palindrom Checker"
   ]
  },
  {
   "cell_type": "code",
   "execution_count": 25,
   "id": "5228a201-2069-4566-a3b5-b41aa7d391ae",
   "metadata": {},
   "outputs": [],
   "source": [
    "def is_palindrome(word):\n",
    "    if  word.lower() == word[::-1].lower():\n",
    "        print(\"It's a palindrome!\")\n",
    "    else:\n",
    "        print(\"It's not a palindrome!\")    "
   ]
  },
  {
   "cell_type": "code",
   "execution_count": 26,
   "id": "37851654-ccb0-4026-bd94-35533792fc30",
   "metadata": {},
   "outputs": [
    {
     "name": "stdout",
     "output_type": "stream",
     "text": [
      "It's a palindrome!\n"
     ]
    }
   ],
   "source": [
    "is_palindrome(\"level\")"
   ]
  },
  {
   "cell_type": "markdown",
   "id": "a0aee9bf-9507-403f-a7dc-8524a3aa23fe",
   "metadata": {},
   "source": [
    "## Review \n",
    "\n",
    "Your solution is almost correct, but there are a couple of small issues:\n",
    "\n",
    "lower() should be applied only once: Instead of word.lower() == word[::-1].lower(), apply .lower() once to word.\n",
    "    \n",
    "Use return Instead of print: This makes the function more reusable."
   ]
  },
  {
   "cell_type": "markdown",
   "id": "7ae72137-d730-4576-8385-70f4230dfcbe",
   "metadata": {},
   "source": [
    "## Mystery Calculator"
   ]
  },
  {
   "cell_type": "code",
   "execution_count": 27,
   "id": "0c96413c-5efe-42ce-8283-b6838d53c060",
   "metadata": {},
   "outputs": [],
   "source": [
    "def mystery_calculation(a, b, c):\n",
    "    return ((a + b)*c)/2"
   ]
  },
  {
   "cell_type": "code",
   "execution_count": 28,
   "id": "fbb5faa8-aa3a-4f13-b408-00e0f6d161b6",
   "metadata": {},
   "outputs": [
    {
     "data": {
      "text/plain": [
       "60.0"
      ]
     },
     "execution_count": 28,
     "metadata": {},
     "output_type": "execute_result"
    }
   ],
   "source": [
    "mystery_calculation(5, 7, 10)"
   ]
  },
  {
   "cell_type": "markdown",
   "id": "00cc54ab-0b86-43d1-872e-51a1a43e484a",
   "metadata": {},
   "source": [
    "## Review\n",
    "\n",
    "✅ Your solution is correct!\n",
    "\n",
    "The formula ((a + b) * c) / 2 is implemented correctly.\n",
    "    \n",
    "The function returns the correct result."
   ]
  },
  {
   "cell_type": "markdown",
   "id": "1a18ffcb-ab30-4a6a-ae9e-b7bbd696771c",
   "metadata": {},
   "source": [
    "## Fibonacci Sequence Generator"
   ]
  },
  {
   "cell_type": "code",
   "execution_count": 29,
   "id": "4c413200-73f8-4cc6-971b-b73c94b0e0fc",
   "metadata": {},
   "outputs": [],
   "source": [
    "def generate_fibonacci(n):\n",
    "    sequence = [0]\n",
    "    for i in range(1, n + 1):\n",
    "        if i <= 2:\n",
    "            sequence.append(1)\n",
    "        else:\n",
    "            sequence.append(sequence[i-1] + sequence[i-2])\n",
    "    print(sequence[0:n])"
   ]
  },
  {
   "cell_type": "code",
   "execution_count": 30,
   "id": "e044df99-be94-49fe-a4e7-52003a83c58b",
   "metadata": {},
   "outputs": [
    {
     "name": "stdout",
     "output_type": "stream",
     "text": [
      "[0, 1, 1, 2, 3, 5, 8, 13, 21, 34]\n"
     ]
    }
   ],
   "source": [
    "generate_fibonacci(10)"
   ]
  },
  {
   "cell_type": "markdown",
   "id": "b61b0c9d-9e53-4434-a5fa-9604420d89f8",
   "metadata": {},
   "source": [
    "## Review\n",
    "\n",
    "Your solution is almost correct, but there are a few issues:\n",
    "\n",
    "Incorrect Indexing: The Fibonacci sequence should start with [0, 1], but your logic appends 1 twice incorrectly.\n",
    "    \n",
    "Index Error in List Addition: The correct formula is sequence[i-1] + sequence[i-2], but your loop starts at 1, leading to an index issue.\n",
    "\n",
    "Use return Instead of print: This makes the function more reusable."
   ]
  },
  {
   "cell_type": "code",
   "execution_count": 31,
   "id": "449af24d-0509-49f5-83c2-d847474cd8e8",
   "metadata": {},
   "outputs": [
    {
     "name": "stdout",
     "output_type": "stream",
     "text": [
      "[0, 1, 1, 2, 3, 5, 8, 13, 21, 34]\n"
     ]
    }
   ],
   "source": [
    "#suggested solution\n",
    "\n",
    "def generate_fibonacci(n):\n",
    "    if n <= 0:\n",
    "        return []  # Handle edge case for n <= 0\n",
    "    elif n == 1:\n",
    "        return [0]  # Only the first Fibonacci number\n",
    "\n",
    "    sequence = [0, 1]  # Start with first two numbers\n",
    "    for i in range(2, n):  # Start from index 2\n",
    "        sequence.append(sequence[i-1] + sequence[i-2])\n",
    "    \n",
    "    return sequence\n",
    "\n",
    "# Test the function\n",
    "print(generate_fibonacci(10))  \n"
   ]
  },
  {
   "cell_type": "markdown",
   "id": "b2c66084-a3c4-4e27-81c5-43b87a60d34e",
   "metadata": {},
   "source": [
    "## Word Frequency Counter"
   ]
  },
  {
   "cell_type": "code",
   "execution_count": 32,
   "id": "bb35d3d5-28f3-4b42-9eaf-9915a2f0c1bd",
   "metadata": {},
   "outputs": [],
   "source": [
    "def count_word_frequency(text, word):\n",
    "    print(f\"The word {word} appears {text.count(word)} time(s)\")\n",
    "    "
   ]
  },
  {
   "cell_type": "code",
   "execution_count": 33,
   "id": "95709e57-5f9a-4a2e-ad9f-7e52f201d365",
   "metadata": {},
   "outputs": [
    {
     "name": "stdout",
     "output_type": "stream",
     "text": [
      "The word Python appears 2 time(s)\n"
     ]
    }
   ],
   "source": [
    "count_word_frequency(\"Python is fun, Python is powerful\", \"Python\")"
   ]
  },
  {
   "cell_type": "markdown",
   "id": "77a8639e-918b-48fd-9c24-9b359feaf25d",
   "metadata": {},
   "source": [
    "## Review\n",
    "\n",
    "Your solution is almost correct, but there are a few small issues:\n",
    "\n",
    "\n",
    "Case Sensitivity: text.count(word) is case-sensitive, so \"python\" and \"Python\" would be counted separately.\n",
    "\n",
    "Use return Instead of print: This makes the function more reusable."
   ]
  },
  {
   "cell_type": "markdown",
   "id": "1fbd08d1-ae9f-4e50-8d73-93101b510783",
   "metadata": {},
   "source": [
    "## Mystery Number Finder"
   ]
  },
  {
   "cell_type": "code",
   "execution_count": 34,
   "id": "7186c2f5-e1fb-432d-b1c7-2944c0dd3adf",
   "metadata": {},
   "outputs": [],
   "source": [
    "def find_mystery_number(numbers):\n",
    "    evenNumbers = []\n",
    "    for i in range(0, len(numbers)):\n",
    "        if numbers[i]%2 == 0:\n",
    "            evenNumbers.append(numbers[i])\n",
    "    if len(evenNumbers) == 0:\n",
    "        print(\"No even numbers found!\")\n",
    "    else:\n",
    "        print(f\"The largest even number in the list is: {max(evenNumbers)}\")\n",
    "        "
   ]
  },
  {
   "cell_type": "code",
   "execution_count": 35,
   "id": "7eb2fe15-ea62-48c7-88b4-6ded730b200e",
   "metadata": {},
   "outputs": [
    {
     "name": "stdout",
     "output_type": "stream",
     "text": [
      "The largest even number in the list is: 100\n"
     ]
    }
   ],
   "source": [
    "find_mystery_number([1,3, 4, 2, 8, 9, 10, 100])"
   ]
  },
  {
   "cell_type": "markdown",
   "id": "011cf721-9bee-4565-bfea-f9972fce756e",
   "metadata": {},
   "source": [
    "## Review \n",
    "\n",
    "Your solution is almost correct, but here are some improvements:\n",
    "\n",
    "Unnecessary Loop Indexing: Instead of for i in range(0, len(numbers)), iterate directly with for num in numbers.\n",
    "                                     \n",
    "Use List Comprehension: This makes filtering even numbers more efficient.\n",
    "\n",
    "Use return Instead of print: This makes the function reusable."
   ]
  },
  {
   "cell_type": "markdown",
   "id": "f8dc820e-53d9-43ad-8c64-75340f895707",
   "metadata": {},
   "source": [
    "<h1>**************************************** The end ***************************************"
   ]
  },
  {
   "cell_type": "code",
   "execution_count": null,
   "id": "1b263383-766a-44b2-8c62-2ed54a4416d0",
   "metadata": {},
   "outputs": [],
   "source": []
  },
  {
   "cell_type": "code",
   "execution_count": null,
   "id": "6aaf036a-467e-45ab-8f1d-270de2b7d946",
   "metadata": {},
   "outputs": [],
   "source": []
  }
 ],
 "metadata": {
  "kernelspec": {
   "display_name": "Python 3 (ipykernel)",
   "language": "python",
   "name": "python3"
  },
  "language_info": {
   "codemirror_mode": {
    "name": "ipython",
    "version": 3
   },
   "file_extension": ".py",
   "mimetype": "text/x-python",
   "name": "python",
   "nbconvert_exporter": "python",
   "pygments_lexer": "ipython3",
   "version": "3.12.7"
  }
 },
 "nbformat": 4,
 "nbformat_minor": 5
}
